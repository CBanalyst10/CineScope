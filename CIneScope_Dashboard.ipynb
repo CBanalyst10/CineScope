{
 "cells": [
  {
   "cell_type": "code",
   "execution_count": 1,
   "id": "8997cd97",
   "metadata": {
    "ExecuteTime": {
     "end_time": "2021-05-06T06:08:19.636340Z",
     "start_time": "2021-05-06T06:08:19.210926Z"
    },
    "tags": [
     "meta"
    ]
   },
   "outputs": [],
   "source": [
    "import pandas as pd\n",
    "import numpy as np\n",
    "import plotly.express as px\n",
    "\n",
    "import ipywidgets as widgets\n",
    "from ipywidgets import HBox, VBox, IntSlider, Play, jslink, interactive\n",
    "\n",
    "import plotly.graph_objects as go"
   ]
  },
  {
   "cell_type": "markdown",
   "id": "e20e7d96",
   "metadata": {
    "tags": [
     "sidebar"
    ]
   },
   "source": [
    "# Sidebar"
   ]
  },
  {
   "cell_type": "code",
   "execution_count": 2,
   "id": "6e3abea7",
   "metadata": {
    "ExecuteTime": {
     "end_time": "2021-05-06T06:08:19.812203Z",
     "start_time": "2021-05-06T06:08:19.639132Z"
    }
   },
   "outputs": [],
   "source": [
    "movie_df = pd.read_csv('data/movie_dfce.zip')\n",
    "movie_dfc = movie_df.copy()"
   ]
  },
  {
   "cell_type": "code",
   "execution_count": 3,
   "id": "3a3ec9ff",
   "metadata": {
    "ExecuteTime": {
     "end_time": "2021-05-06T06:08:19.818694Z",
     "start_time": "2021-05-06T06:08:19.814678Z"
    }
   },
   "outputs": [],
   "source": [
    "genre_cols = ['Any']\n",
    "genre_cols.extend(list(movie_df.columns[7:-1]))\n",
    "\n",
    "axis_map = {\n",
    "    \"Average Rating\": \"averageRating\",\n",
    "    \"Popularity\": \"popularity\",\n",
    "    \"Number of Reviews\": \"numVotes\",\n",
    "    \"Revenue Earned (dollars)\": \"revenue\",\n",
    "    \"Length (minutes)\": \"runtimeMinutes\",\n",
    "    \"Year\": \"startYear\",\n",
    "}"
   ]
  },
  {
   "cell_type": "markdown",
   "id": "10f90272",
   "metadata": {
    "tags": [
     "size=650"
    ]
   },
   "source": [
    "# Filters"
   ]
  },
  {
   "cell_type": "code",
   "execution_count": 4,
   "id": "61d55f6c",
   "metadata": {
    "ExecuteTime": {
     "end_time": "2021-05-06T06:08:19.886850Z",
     "start_time": "2021-05-06T06:08:19.820656Z"
    },
    "tags": [
     "body"
    ]
   },
   "outputs": [
    {
     "data": {
      "application/vnd.jupyter.widget-view+json": {
       "model_id": "c78f02643a354a42b21d37547a01fe46",
       "version_major": 2,
       "version_minor": 0
      },
      "text/plain": [
       "VBox(children=(HTML(value='Minimum number of ratings on IMDb:'), IntSlider(value=100, max=3000000, min=100, st…"
      ]
     },
     "metadata": {},
     "output_type": "display_data"
    }
   ],
   "source": [
    "components = []\n",
    "\n",
    "ratingc_label = widgets.HTML(value=\"Minimum number of ratings on IMDb:\")\n",
    "ratingc = widgets.IntSlider(value=100, min=100, max=3000000, step=100)\n",
    "components.extend([ratingc_label, ratingc])\n",
    "\n",
    "ratingv_label = widgets.HTML(value=\"Minimum average rating on IMDb:\")\n",
    "ratingv = widgets.IntSlider(value=0, min=0, max=5, step=1)\n",
    "components.extend([ratingv_label, ratingv])\n",
    "\n",
    "released_year_label = widgets.HTML(value=\"Year released:\")\n",
    "released_year = widgets.IntRangeSlider(value=[1911, 2021], min=1911, max=2021, step=1)\n",
    "components.extend([released_year_label, released_year])\n",
    "\n",
    "revenue_label = widgets.HTML(value=\"Revenue Earned:\")\n",
    "revenue = widgets.IntSlider(value=0, min=10000, max=300000000, step=10000)\n",
    "components.extend([revenue_label, revenue])\n",
    "\n",
    "genre_label = widgets.HTML(value=\"Genre (a movie can have multiple genres):\")\n",
    "genre = widgets.Dropdown(options=genre_cols, value=\"Any\")\n",
    "components.extend([genre_label, genre])\n",
    "\n",
    "all_widgets = widgets.VBox(components)\n",
    "all_widgets"
   ]
  },
  {
   "cell_type": "markdown",
   "id": "7a160a1e",
   "metadata": {
    "tags": [
     "size=350"
    ]
   },
   "source": [
    "# Variables"
   ]
  },
  {
   "cell_type": "code",
   "execution_count": 5,
   "id": "e601eaf0",
   "metadata": {
    "ExecuteTime": {
     "end_time": "2021-05-06T06:08:19.936492Z",
     "start_time": "2021-05-06T06:08:19.888688Z"
    },
    "tags": [
     "body"
    ]
   },
   "outputs": [
    {
     "data": {
      "application/vnd.jupyter.widget-view+json": {
       "model_id": "fcc59789fb5b4600b55d44cfaf5f0cfd",
       "version_major": 2,
       "version_minor": 0
      },
      "text/plain": [
       "VBox(children=(HTML(value='X-axis variable:'), Dropdown(index=4, options=(('Average Rating', 'averageRating'),…"
      ]
     },
     "metadata": {},
     "output_type": "display_data"
    }
   ],
   "source": [
    "components = []\n",
    "\n",
    "x_axis_label = widgets.HTML(value=\"X-axis variable:\")\n",
    "x_axis = widgets.Dropdown(options=list(axis_map.items()), value=\"runtimeMinutes\")\n",
    "components.extend([x_axis_label, x_axis])\n",
    "\n",
    "y_axis_label = widgets.HTML(value=\"Y-axis variable:\")\n",
    "y_axis = widgets.Dropdown(options=list(axis_map.items()), value=\"averageRating\")\n",
    "components.extend([y_axis_label, y_axis])\n",
    "\n",
    "\n",
    "note = \"Note: The Average Rating is collected from IMDb, and is the average of 1 to 10 ratings given by users, divided by 2.\"\n",
    "note_label = widgets.HTML(value=note)\n",
    "components.append(note_label)\n",
    "\n",
    "all_widgets = widgets.VBox(components)\n",
    "all_widgets"
   ]
  },
  {
   "cell_type": "code",
   "execution_count": 6,
   "id": "e18749cb",
   "metadata": {
    "ExecuteTime": {
     "end_time": "2021-05-06T06:08:19.972885Z",
     "start_time": "2021-05-06T06:08:19.942781Z"
    },
    "tags": [
     "source"
    ]
   },
   "outputs": [],
   "source": [
    "movie_dfc[\"color\"] = np.where(movie_dfc[\"averageRating\"] > 3, \"orange\", \"grey\")\n",
    "movie_dfc[\"alpha\"] = np.where(movie_dfc[\"averageRating\"] > 3, 0.9, 0.25)\n",
    "movie_dfc.fillna(0, inplace=True)"
   ]
  },
  {
   "cell_type": "code",
   "execution_count": 7,
   "id": "ce2ce41f",
   "metadata": {
    "ExecuteTime": {
     "end_time": "2021-05-06T06:08:20.194823Z",
     "start_time": "2021-05-06T06:08:19.980368Z"
    },
    "tags": [
     "source"
    ]
   },
   "outputs": [],
   "source": [
    "fig = go.FigureWidget()\n",
    "plot = go.Scatter(x=[], y=[], mode=\"markers\", text=[], hoverinfo=\"text\", marker=dict(color=[], opacity=[], size=7))\n",
    "fig.add_trace(plot)\n",
    "\n",
    "margin = go.layout.Margin(l=20, r=20, b=20, t=30)\n",
    "fig = fig.update_layout(margin=margin)"
   ]
  },
  {
   "cell_type": "code",
   "execution_count": 8,
   "id": "5be3bf1e",
   "metadata": {
    "ExecuteTime": {
     "end_time": "2021-05-06T06:08:20.204938Z",
     "start_time": "2021-05-06T06:08:20.197873Z"
    },
    "tags": [
     "source"
    ]
   },
   "outputs": [],
   "source": [
    "def select_movies():\n",
    "    selected = movie_dfc[\n",
    "        (movie_dfc.numVotes >= ratingc.value) &\n",
    "        (movie_dfc.averageRating >= ratingv.value) &\n",
    "        (movie_dfc.revenue >= (revenue.value)) &\n",
    "        (movie_dfc.startYear >= released_year.value[0]) &\n",
    "        (movie_dfc.startYear <= released_year.value[1])\n",
    "    ]\n",
    "    if (genre.value == \"Any\"):\n",
    "        return selected\n",
    "    else:\n",
    "        curgen = genre.value\n",
    "        selected = selected[selected[curgen]>0]\n",
    "        return selected\n",
    "\n",
    "\n",
    "def on_value_change(change):\n",
    "    movie_dfc = select_movies()\n",
    "    x_name = x_axis.value\n",
    "    y_name = y_axis.value\n",
    "\n",
    "    fig.data[0]['x'] = movie_dfc[x_name]\n",
    "    fig.data[0]['y'] = movie_dfc[y_name]\n",
    "    fig.data[0]['marker']['color'] = movie_dfc[\"color\"]\n",
    "    fig.data[0]['marker']['opacity'] = movie_dfc[\"alpha\"]\n",
    "    fig.data[0]['text'] = movie_dfc[\"title\"].astype(str) + \"<br>\" + movie_dfc[\"averageRating\"].astype(str) + \"<br>\" + movie_dfc[\"numVotes\"].astype(str) + \"<br>\"+ movie_dfc[\"revenue\"].astype(str)\n",
    "    \n",
    "    fig.update_xaxes(title_text=x_axis.label)\n",
    "    fig.update_yaxes(title_text=y_axis.label)\n",
    "    fig.update_layout(title=\"%d movies selected\" % len(movie_dfc))"
   ]
  },
  {
   "cell_type": "code",
   "execution_count": 9,
   "id": "abdc9c5c",
   "metadata": {
    "ExecuteTime": {
     "end_time": "2021-05-06T06:08:20.213066Z",
     "start_time": "2021-05-06T06:08:20.208093Z"
    },
    "tags": [
     "source"
    ]
   },
   "outputs": [],
   "source": [
    "controls = [ratingc, ratingv, released_year, revenue, genre]\n",
    "for control in controls:\n",
    "    control.observe(on_value_change, names=\"value\")"
   ]
  },
  {
   "cell_type": "code",
   "execution_count": 10,
   "id": "219afe98",
   "metadata": {
    "ExecuteTime": {
     "end_time": "2021-05-06T06:08:21.499932Z",
     "start_time": "2021-05-06T06:08:20.214859Z"
    },
    "tags": [
     "body"
    ]
   },
   "outputs": [
    {
     "data": {
      "application/vnd.jupyter.widget-view+json": {
       "model_id": "a5620179fd414fd588fa024f48adca68",
       "version_major": 2,
       "version_minor": 0
      },
      "text/plain": [
       "FigureWidget({\n",
       "    'data': [{'hoverinfo': 'text',\n",
       "              'marker': {'color': array(['orange', 'orange',…"
      ]
     },
     "metadata": {},
     "output_type": "display_data"
    }
   ],
   "source": [
    "on_value_change(None)\n",
    "fig"
   ]
  }
 ],
 "metadata": {
  "celltoolbar": "Tags",
  "kernelspec": {
   "display_name": "Python 3",
   "language": "python",
   "name": "python3"
  },
  "language_info": {
   "codemirror_mode": {
    "name": "ipython",
    "version": 3
   },
   "file_extension": ".py",
   "mimetype": "text/x-python",
   "name": "python",
   "nbconvert_exporter": "python",
   "pygments_lexer": "ipython3",
   "version": "3.9.4"
  },
  "toc": {
   "base_numbering": 1,
   "nav_menu": {},
   "number_sections": true,
   "sideBar": true,
   "skip_h1_title": false,
   "title_cell": "Table of Contents",
   "title_sidebar": "Contents",
   "toc_cell": false,
   "toc_position": {},
   "toc_section_display": true,
   "toc_window_display": false
  },
  "varInspector": {
   "cols": {
    "lenName": 16,
    "lenType": 16,
    "lenVar": 40
   },
   "kernels_config": {
    "python": {
     "delete_cmd_postfix": "",
     "delete_cmd_prefix": "del ",
     "library": "var_list.py",
     "varRefreshCmd": "print(var_dic_list())"
    },
    "r": {
     "delete_cmd_postfix": ") ",
     "delete_cmd_prefix": "rm(",
     "library": "var_list.r",
     "varRefreshCmd": "cat(var_dic_list()) "
    }
   },
   "types_to_exclude": [
    "module",
    "function",
    "builtin_function_or_method",
    "instance",
    "_Feature"
   ],
   "window_display": false
  }
 },
 "nbformat": 4,
 "nbformat_minor": 5
}
