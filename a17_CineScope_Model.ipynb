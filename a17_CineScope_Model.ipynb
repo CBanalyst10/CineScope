{
 "cells": [
  {
   "cell_type": "markdown",
   "id": "7787a6b9",
   "metadata": {},
   "source": [
    "# Dashboard Staging"
   ]
  },
  {
   "cell_type": "code",
   "execution_count": 1,
   "id": "b3d8fd46",
   "metadata": {
    "ExecuteTime": {
     "end_time": "2021-05-06T01:14:12.196994Z",
     "start_time": "2021-05-06T01:14:12.192738Z"
    },
    "tags": [
     "parameters"
    ]
   },
   "outputs": [],
   "source": [
    "flex_title = \"CineScope Movie Recommender\"\n",
    "flex_orientation = \"rows\"\n",
    "flex_subtitle = \"A recommender project demoed with jupyter-flex\"\n",
    "flex_include_source = True\n",
    "flex_source_link = \"https://github.com/CBanalyst10/CineScope/blob/main/a11_CineScope_Model.ipynb\""
   ]
  },
  {
   "cell_type": "code",
   "execution_count": 2,
   "id": "d08981b4",
   "metadata": {
    "ExecuteTime": {
     "end_time": "2021-05-06T01:14:19.141943Z",
     "start_time": "2021-05-06T01:14:12.200864Z"
    },
    "tags": [
     "meta"
    ]
   },
   "outputs": [],
   "source": [
    "import pandas as pd\n",
    "import numpy as np\n",
    "import math\n",
    "import matplotlib.pyplot as plt\n",
    "\n",
    "\n",
    "import pyspark\n",
    "from pyspark.sql.types import *\n",
    "from pyspark.ml.tuning import TrainValidationSplit\n",
    "from pyspark.ml.recommendation import ALS\n",
    "from pyspark.ml.evaluation import RegressionEvaluator\n",
    "\n",
    "from pyspark.sql import SparkSession\n",
    "spark = SparkSession.builder \\\n",
    "    .master('local[*]') \\\n",
    "    .config(\"spark.driver.memory\", \"15g\") \\\n",
    "    .appName('ALS_recommender') \\\n",
    "    .getOrCreate()\n",
    "\n",
    "\n",
    "# Build our Spark Session and Context\n",
    "spark = pyspark.sql.SparkSession.builder.getOrCreate()\n",
    "sc = spark.sparkContext\n",
    "spark, sc\n",
    "\n",
    "\n",
    "from pyspark.sql.functions import lit\n",
    "from pyspark.sql.types import StructType, StructField, IntegerType\n",
    "from pyspark.sql.functions import countDistinct, col\n",
    "\n",
    "import plotly.express as px"
   ]
  },
  {
   "cell_type": "code",
   "execution_count": 3,
   "id": "based-hampshire",
   "metadata": {
    "ExecuteTime": {
     "end_time": "2021-05-06T01:14:19.212523Z",
     "start_time": "2021-05-06T01:14:19.186263Z"
    },
    "tags": [
     "meta"
    ]
   },
   "outputs": [],
   "source": [
    "#Settings\n",
    "# Set ipython's max row display\n",
    "pd.set_option('display.max_row', 50)\n",
    "\n",
    "# Set iPython's max column width to 50\n",
    "pd.set_option('display.max_columns', 50)\n",
    "\n",
    "# parameters block\n",
    "plt.style.use(\"ggplot\")\n",
    "%matplotlib inline\n",
    "\n",
    "\n",
    "plt.rcParams.update({'text.color' : \"black\",\n",
    "                     'axes.labelcolor' : \"black\",\n",
    "                    'xtick.color' : \"black\",\n",
    "                    'ytick.color' : \"black\"})"
   ]
  },
  {
   "cell_type": "code",
   "execution_count": 4,
   "id": "packed-testament",
   "metadata": {
    "ExecuteTime": {
     "end_time": "2021-05-06T01:14:19.414011Z",
     "start_time": "2021-05-06T01:14:19.225878Z"
    },
    "tags": [
     "meta"
    ]
   },
   "outputs": [],
   "source": [
    "import tmdbsimple as tds\n",
    "import pdb\n",
    "\n",
    "keys = pd.read_csv('keys.txt')\n",
    "keys['kDb3'][0]\n",
    "tds.API_KEY = keys['kDb3'][0]"
   ]
  },
  {
   "cell_type": "code",
   "execution_count": 5,
   "id": "c8d7bdab",
   "metadata": {
    "ExecuteTime": {
     "end_time": "2021-05-06T01:14:19.694934Z",
     "start_time": "2021-05-06T01:14:19.415899Z"
    },
    "tags": [
     "meta"
    ]
   },
   "outputs": [],
   "source": [
    "#import os\n",
    "\n",
    "from bqplot import (\n",
    "    LogScale, LinearScale, OrdinalColorScale, ColorAxis,\n",
    "    Axis, Scatter, Lines, CATEGORY10, Label, Figure, Tooltip\n",
    ")\n",
    "\n",
    "#from IPython.display import display\n",
    "import ipywidgets as widgets\n",
    "#from IPython.html.widgets import interactive # deprecated, moved to ipywidgets below\n",
    "from ipywidgets import HBox, VBox, IntSlider, Play, jslink, interactive\n",
    "\n",
    "\n",
    "import plotly.graph_objects as go\n",
    "\n",
    "import tabloo\n",
    "\n",
    "#from tkinter import *\n",
    "#import tkinter as tk\n",
    "#import pandastable\n",
    "#from pandastable import Table, TableModel"
   ]
  },
  {
   "cell_type": "code",
   "execution_count": 6,
   "id": "forward-edwards",
   "metadata": {
    "ExecuteTime": {
     "end_time": "2021-05-06T01:15:50.467492Z",
     "start_time": "2021-05-06T01:14:19.698713Z"
    },
    "tags": [
     "source"
    ]
   },
   "outputs": [],
   "source": [
    "merged_movie_r_df_num = pd.read_csv('data/merged_movies_and_ratings_reduced.csv')\n",
    "merged_movie_r_df_num.drop(columns=['Unnamed: 0'], inplace=True)"
   ]
  },
  {
   "cell_type": "code",
   "execution_count": 7,
   "id": "e57bc160",
   "metadata": {
    "ExecuteTime": {
     "end_time": "2021-05-06T01:15:50.506944Z",
     "start_time": "2021-05-06T01:15:50.488185Z"
    }
   },
   "outputs": [],
   "source": [
    "def df_to_pivot(df, user, item, value, mode='p'):\n",
    "    if mode=='p':      \n",
    "        return df[[user, item, value]].pivot(index=user, columns=item, values=value)\n",
    "    elif mode=='pt':\n",
    "        return pd.pivot_table(df, index=user, columns=item, values=value)\n",
    "    else:\n",
    "        print('Please specify a mode!')"
   ]
  },
  {
   "cell_type": "code",
   "execution_count": 8,
   "id": "5a15d58f",
   "metadata": {
    "ExecuteTime": {
     "end_time": "2021-05-06T01:15:50.623649Z",
     "start_time": "2021-05-06T01:15:50.528670Z"
    },
    "tags": [
     "source"
    ]
   },
   "outputs": [],
   "source": [
    "#print('Parsing Movies')\n",
    "ml_m_df = pd.read_csv(\"ml-25m/movies.csv\")\n",
    "#print(ml_m_df.info())\n",
    "#print('\\n')\n",
    "ml_m_df.drop(columns=['genres'], inplace=True)"
   ]
  },
  {
   "cell_type": "code",
   "execution_count": 9,
   "id": "brave-article",
   "metadata": {
    "ExecuteTime": {
     "end_time": "2021-05-06T01:17:10.831481Z",
     "start_time": "2021-05-06T01:15:50.626960Z"
    },
    "tags": [
     "source"
    ]
   },
   "outputs": [],
   "source": [
    "merged_movie_r_df_num['startYear'] = merged_movie_r_df_num['startYear'].astype('uint32')\n",
    "merged_movie_r_df_num['timeyear'] = merged_movie_r_df_num['timeyear'].astype('uint32')\n",
    "dfui8c = ['gnr_Action', 'gnr_Adult', 'gnr_Adventure', 'gnr_Animation', 'gnr_Biography', 'gnr_Comedy',\n",
    "          'gnr_Crime', 'gnr_Documentary', 'gnr_Drama', 'gnr_Family', 'gnr_Fantasy', 'gnr_Film-Noir',\n",
    "          'gnr_History', 'gnr_Horror', 'gnr_Music', 'gnr_Mystery', 'gnr_Romance', 'gnr_Sci-Fi', 'gnr_Sport',\n",
    "          'gnr_Thriller', 'gnr_War', 'gnr_Western', 'original_language_en', 'original_language_hi', 'original_language_it', 'original_language_ja',\n",
    "          'original_language_sv']\n",
    "for ui8col in dfui8c:\n",
    "    merged_movie_r_df_num[ui8col] = merged_movie_r_df_num[ui8col].astype('uint8')"
   ]
  },
  {
   "cell_type": "code",
   "execution_count": 10,
   "id": "5ea2ff27",
   "metadata": {
    "ExecuteTime": {
     "end_time": "2021-05-06T01:17:10.866064Z",
     "start_time": "2021-05-06T01:17:10.840272Z"
    }
   },
   "outputs": [],
   "source": [
    "def money_impute(mudf):\n",
    "    \"\"\"\n",
    "    Input: merged dataframe of user ratings and their corresponding movie\n",
    "    Output: this dataframe but with imputed budget and revenue, based on the median\n",
    "    \"\"\"\n",
    "    mudf = mudf.copy()\n",
    "    bm = mudf['budget'].median()\n",
    "    rm = mudf['revenue'].median()\n",
    "    \n",
    "    mudf['budget'] = mudf['budget'].apply(lambda x: x if x>0 else bm)\n",
    "    mudf['revenue'] = mudf['revenue'].apply(lambda x: x if x>0 else rm)\n",
    "    \n",
    "    # Entries were rev is 0 and budget less than rm, assign rm.\n",
    "    #mudf['revenue'] = np.where(((mudf.revenue <= 0) & (mudf.budget <= rm), rm, mudf.revenue))\n",
    "                               \n",
    "    # If the budget was greater than rm, assign the budget for what 0 remain.\n",
    "    #mudf['revenue'] = np.where(((mudf.revenue <= 0) & (mudf.budget > rm), mudf.budget, mudf.revenue))\n",
    "\n",
    "    return mudf"
   ]
  },
  {
   "cell_type": "code",
   "execution_count": 11,
   "id": "b3571e46",
   "metadata": {
    "ExecuteTime": {
     "end_time": "2021-05-06T01:17:32.582521Z",
     "start_time": "2021-05-06T01:17:10.869981Z"
    },
    "tags": [
     "source"
    ]
   },
   "outputs": [],
   "source": [
    "merged_movie_r_df_imp = money_impute(merged_movie_r_df_num)"
   ]
  },
  {
   "cell_type": "code",
   "execution_count": 12,
   "id": "debc69fd",
   "metadata": {
    "ExecuteTime": {
     "end_time": "2021-05-06T01:17:32.596445Z",
     "start_time": "2021-05-06T01:17:32.585954Z"
    }
   },
   "outputs": [],
   "source": [
    "def merged_split_user_item(mudf):\n",
    "    \"\"\"\n",
    "    Input: merged dataframe of user ratings and their corresponding movie\n",
    "    Output: two split dataframes containing only users and only movies respectively\n",
    "    \"\"\"\n",
    "    udf = mudf[['userId', 'movieId', 'rating', 'timeyear']]\n",
    "    mdf = mudf.drop(columns=['userId', 'rating', 'timeyear']).drop_duplicates(subset='movieId')\n",
    "    \n",
    "    return udf.sort_values('userId').reset_index(drop=True), mdf.sort_values('movieId').reset_index(drop=True)"
   ]
  },
  {
   "cell_type": "code",
   "execution_count": 13,
   "id": "8b4e7b7c",
   "metadata": {
    "ExecuteTime": {
     "end_time": "2021-05-06T01:17:43.982124Z",
     "start_time": "2021-05-06T01:17:32.599203Z"
    },
    "tags": [
     "source"
    ]
   },
   "outputs": [],
   "source": [
    "#creating separate dataframes for vectorization\n",
    "user_r_df, movie_df = merged_split_user_item(merged_movie_r_df_imp)"
   ]
  },
  {
   "cell_type": "code",
   "execution_count": 14,
   "id": "ba3520c4",
   "metadata": {
    "ExecuteTime": {
     "end_time": "2021-05-06T01:17:43.995258Z",
     "start_time": "2021-05-06T01:17:43.985485Z"
    },
    "tags": [
     "source"
    ]
   },
   "outputs": [],
   "source": [
    "movie_df.drop(columns = ['vote_average', 'vote_count'], inplace=True) # Less popular platform has less useful content."
   ]
  },
  {
   "cell_type": "code",
   "execution_count": 15,
   "id": "74fdc984",
   "metadata": {
    "ExecuteTime": {
     "end_time": "2021-05-06T01:17:44.008074Z",
     "start_time": "2021-05-06T01:17:43.998495Z"
    }
   },
   "outputs": [],
   "source": [
    "movie_df['budget'] = movie_df['budget'].astype(int)\n",
    "movie_df['revenue'] = movie_df['revenue'].astype(int)"
   ]
  },
  {
   "cell_type": "code",
   "execution_count": 16,
   "id": "0cec2493",
   "metadata": {
    "ExecuteTime": {
     "end_time": "2021-05-06T01:17:44.015351Z",
     "start_time": "2021-05-06T01:17:44.009720Z"
    }
   },
   "outputs": [],
   "source": [
    "def movie_split_away_context(mdf, si=True):\n",
    "    \"\"\"\n",
    "    Input: movie dataframe of all movie data\n",
    "    Output: two split dataframes, one containing only fields common in the user vector, the other containing only\n",
    "      context data\n",
    "    Purpose: creating split data to test use of LightFM\n",
    "    \"\"\"\n",
    "    mdf = mdf.copy()\n",
    "    ctdf = mdf[['movieId','budget', 'revenue', 'popularity', 'startYear', 'runtimeMinutes',\n",
    "                'averageRating', 'numVotes']]\n",
    "    cmdf = mdf.drop(columns=['budget', 'revenue', 'popularity', 'startYear', 'runtimeMinutes', 'averageRating', 'numVotes'])\n",
    "    ctdf.sort_values('movieId')\n",
    "    cmdf.sort_values('movieId')\n",
    "    \n",
    "    if si==True:\n",
    "        ctdf.set_index('movieId')\n",
    "        cmdf.set_index('movieId')\n",
    "    \n",
    "    return cmdf, ctdf"
   ]
  },
  {
   "cell_type": "code",
   "execution_count": 17,
   "id": "e66f574a",
   "metadata": {
    "ExecuteTime": {
     "end_time": "2021-05-06T01:17:44.047370Z",
     "start_time": "2021-05-06T01:17:44.017382Z"
    },
    "tags": [
     "source"
    ]
   },
   "outputs": [],
   "source": [
    "movie_vector_df, movie_context_df = movie_split_away_context(movie_df)"
   ]
  },
  {
   "cell_type": "code",
   "execution_count": 18,
   "id": "929809f4",
   "metadata": {
    "ExecuteTime": {
     "end_time": "2021-05-06T01:17:44.062412Z",
     "start_time": "2021-05-06T01:17:44.050238Z"
    }
   },
   "outputs": [],
   "source": [
    "def expandvectormax(df, s=100, si=None, ei=27, zb=None):\n",
    "    \"\"\"\n",
    "    Inputs:\n",
    "    df: the movie vector dataframe\n",
    "    s: scalar to multiply the vector\n",
    "    \"\"\"\n",
    "    df = df.copy()\n",
    "    \n",
    "    if si:\n",
    "        df.iloc[:,si:ei] = df.iloc[:,si:ei].mul(s)\n",
    "        if zb:\n",
    "            df.iloc[:,si:ei] = df.iloc[:,si:ei].where(df.iloc[:,si:ei]>0)\n",
    "    else:\n",
    "        df.iloc[:,:ei] = df.iloc[:,:ei].mul(s)\n",
    "        if zb:\n",
    "            df.iloc[:,:ei] = df.iloc[:,:ei].where(df.iloc[:,:ei]>0, zb)\n",
    "    return df"
   ]
  },
  {
   "cell_type": "code",
   "execution_count": 19,
   "id": "8a5c5031",
   "metadata": {
    "ExecuteTime": {
     "end_time": "2021-05-06T01:17:44.124114Z",
     "start_time": "2021-05-06T01:17:44.064643Z"
    }
   },
   "outputs": [],
   "source": [
    "movie_vector_dfe = expandvectormax(movie_vector_df, s=100, zb=1)\n",
    "movie_vector_dfe.set_index('movieId', inplace=True)"
   ]
  },
  {
   "cell_type": "code",
   "execution_count": 20,
   "id": "cf0defed",
   "metadata": {
    "ExecuteTime": {
     "end_time": "2021-05-06T01:17:44.130332Z",
     "start_time": "2021-05-06T01:17:44.126168Z"
    }
   },
   "outputs": [],
   "source": [
    "#ufv = user vector fields, the fields used in a user vector. This is for the overall unreduced dataset.\n",
    "uvf = list(movie_vector_dfe.iloc[:,:27].columns)"
   ]
  },
  {
   "cell_type": "code",
   "execution_count": 21,
   "id": "1eab4335",
   "metadata": {
    "ExecuteTime": {
     "end_time": "2021-05-06T01:17:44.139658Z",
     "start_time": "2021-05-06T01:17:44.132699Z"
    }
   },
   "outputs": [],
   "source": [
    "# user_r_df['userId'].max() # Let all new user profiles begin past this maximum\n",
    "# Current max: 162541"
   ]
  },
  {
   "cell_type": "code",
   "execution_count": 22,
   "id": "13dc837e",
   "metadata": {
    "ExecuteTime": {
     "end_time": "2021-05-06T01:17:44.155653Z",
     "start_time": "2021-05-06T01:17:44.147958Z"
    }
   },
   "outputs": [],
   "source": [
    "def set_user_weights(uid, uvfi=uvf, s=100, ud=None, sdf=None, m='set'):\n",
    "    \"\"\"\n",
    "    NOTE: Needs more work.\n",
    "    Function description: Takes in a dictionary of initial user data. Returns...\n",
    "      a vector of the user's preferences\n",
    "    \n",
    "    uid = user ID. Establishes user if nonexistent, overwrites data if the user does exist.\n",
    "    ufv = user vector fields. Often not changed, made modifiable for different input data.\n",
    "    ud = update dictionary. TO BE IMPLEMENTED!\n",
    "    sdf = source dataframe. If None, builds a new dataframe. If a dataframe is passed in, the new user data\n",
    "      is added to it.\n",
    "    m = mode. 'set' creates or replaces data at a specific user index. TO BE EXPANDED!\n",
    "    \"\"\"\n",
    "    nudl = None\n",
    "    complete = False\n",
    "    \n",
    "    \n",
    "    while complete == False:\n",
    "        inps = input(\"Would you like to set your genre preferences? Yes/No: \")\n",
    "        if (complete == False) and ((str(inps).lower() == \"yes\") or (str(inps).lower() == \"y\")):\n",
    "            nudl = list()\n",
    "            for field in uvfi:\n",
    "                inpd = input(f\"Enter your preference level for {field} from 0 to {s}. Press Enter/Return for neutral preference.\")\n",
    "                if int(inpd) > s:\n",
    "                    inpd = s\n",
    "                elif int(inpd) <0:\n",
    "                    inpd = 0\n",
    "                nudl.append(int(inpd))\n",
    "            complete = True\n",
    "        elif (complete == False) and ((str(inps).lower() == \"no\") or (str(inps).lower() == \"n\")):\n",
    "            nudl = list()\n",
    "            for field in uvfi:\n",
    "                nudl.append(math.floor(s/2))\n",
    "            complete = True\n",
    "        else:\n",
    "            nudl = list()\n",
    "            print('Please enter Yes or No. (y/n)')\n",
    "    ndf = pd.DataFrame(columns=uvfi)\n",
    "    if sdf:\n",
    "        ndf = sdf.copy()\n",
    "    ndf.loc[uid] = nudl #If the id is new, adds a new row. If the id exists it replaces this row.\n",
    "    return ndf"
   ]
  },
  {
   "cell_type": "code",
   "execution_count": 23,
   "id": "a823a09c",
   "metadata": {
    "ExecuteTime": {
     "end_time": "2021-05-06T01:17:44.164166Z",
     "start_time": "2021-05-06T01:17:44.160975Z"
    }
   },
   "outputs": [],
   "source": [
    "def round_of_rating(number):\n",
    "    \"\"\"Round a number to the closest half integer.\n",
    "    >>> round_of_rating(1.3)\n",
    "    1.5\n",
    "    >>> round_of_rating(2.6)\n",
    "    2.5\n",
    "    >>> round_of_rating(3.0)\n",
    "    3.0\n",
    "    >>> round_of_rating(4.1)\n",
    "    4.0\"\"\"\n",
    "\n",
    "    return round(number * 2) / 2"
   ]
  },
  {
   "cell_type": "code",
   "execution_count": 24,
   "id": "6b7b2aef",
   "metadata": {
    "ExecuteTime": {
     "end_time": "2021-05-06T01:17:46.597489Z",
     "start_time": "2021-05-06T01:17:44.167431Z"
    }
   },
   "outputs": [],
   "source": [
    "merged_movie_r_df_reduced = merged_movie_r_df_imp.drop(columns=\n",
    "                                                       ['revenue', 'gnr_Crime', 'gnr_Adult', \n",
    "                                                        'original_language_sv', 'original_language_sv',\n",
    "                                                        'gnr_History', 'gnr_Family', 'gnr_Animation',\n",
    "                                                        'gnr_Biography', 'gnr_Crime', 'gnr_Fantasy',\n",
    "                                                        'gnr_Film-Noir', 'gnr_Music', 'gnr_Mystery',\n",
    "                                                        'gnr_Romance', 'gnr_Sport', 'gnr_War', 'gnr_Western'])"
   ]
  },
  {
   "cell_type": "code",
   "execution_count": 25,
   "id": "b9027378",
   "metadata": {
    "ExecuteTime": {
     "end_time": "2021-05-06T01:17:49.432218Z",
     "start_time": "2021-05-06T01:17:46.625473Z"
    }
   },
   "outputs": [],
   "source": [
    "merged_movie_r_df_sample = merged_movie_r_df_reduced.sample(n=1000000, random_state=np.random.RandomState())"
   ]
  },
  {
   "cell_type": "markdown",
   "id": "optical-former",
   "metadata": {},
   "source": [
    "# MetaUser generation and selection\n",
    "## Generation\n",
    "This function could be used to thwart the cold-start problem and search against recommendations. The function takes in a particular movie and rating, then pulls in the average of all movie attributes of all movies such users watch. This means that when a user gives a single movie a rating, value weights for all attributes a movie can have is applied to that user. Recommendation discovery then based off this information.\n",
    "## Selection\n",
    "If the user only selects a particular movie without giving a rating, assume they want to give it a high rating. Return results for the highest metauser score found for that movie. As the user selects more movies, the metauser results are then averaged together further into the unique blend of values that define this user."
   ]
  },
  {
   "cell_type": "raw",
   "id": "848f0952",
   "metadata": {},
   "source": [
    "This means the average rating users give to movies they watch besides the initial movie they rated a 0.5 is a 2.0. This means there are users who watch a movie, rate it poorly, then continue binging movies and rating them poorly. Do users who rate movies poorly enjoy them?\n",
    "\n",
    "Let us assume they do not. The rating bucket of \"3.0\" is beyond halfway up the 10 rating buckets. Thus forming the basis of averaged movie content a user would like requires us to weigh the values of what they rate highly higher than the values of what they rate poorly.\n",
    "\n",
    "A potential solution: there are in most cases at least 1 of each kind of rating. "
   ]
  },
  {
   "cell_type": "raw",
   "id": "8b5ce5fb",
   "metadata": {},
   "source": [
    "This is important. The users who rated that first movie a 0.5 rated many movies a 0.5. The least common scores were the highest, so these users seemingly find and rate bad movies badly. \n",
    "\n",
    "Arithmetic: multiply each numeric field by its rating, then sum up the \n",
    "\n",
    "Recommended value = sum(rating1*val1 ... ratingx*valx) / sum(rating1 ... ratingx)\n",
    "\n",
    "Thus a row of recommended column values for a given movie is generated based on what these users rate.\n",
    "\n",
    "Possible issue: large numbers of low ratings. Possible solution: use the square of rating in calculation.\n",
    "Potential problem with solution: extreme weighting towards high rating data.\n",
    "Justification: This sample set shows the lowest rating outnumbering the highest rating by a factor of 7.05. Only 10 0.5 ratings would give this tier's data the same weight as a single 5.0 rating set of data. Thus using the square is justified."
   ]
  },
  {
   "cell_type": "code",
   "execution_count": 26,
   "id": "employed-ivory",
   "metadata": {
    "ExecuteTime": {
     "end_time": "2021-05-06T01:17:49.442740Z",
     "start_time": "2021-05-06T01:17:49.434801Z"
    }
   },
   "outputs": [],
   "source": [
    "def gen_user_weights(fr_df, dfsi=8, dfei=38, mltc = 'rating', dc=['movieId'], sort_ind = 'userId', mexp=2, dexp=2):\n",
    "    \"\"\"\n",
    "    Takes in a full ratings dataframe containing all relevant movie, user and rating data.\n",
    "    \n",
    "    Returns a dataframe with summary users (metausers), groups by movie and rating bucket.\n",
    "    \n",
    "    Operations: Generate a metauser profile based on a rating given to a particular movie.\n",
    "    \n",
    "    Inputs:\n",
    "    fr_df = full ratings dataframe (pandas dataframe): a frame containing all user ratings\n",
    "      and their corresponding movie data.\n",
    "      \n",
    "    umr_dct = user's movie ratings dictionary: a dictionary containing all of the user's identified movies\n",
    "      and their given rating. If a movie is given no rating, assume 5. If no ratings of 5 are found for\n",
    "      a given movie, seek the next lowest score.\n",
    "      \n",
    "    Outputs:\n",
    "    mud_df = metauser data (pandas dataframe): returns a pandas dataframe of all rating buckets per movie\n",
    "      and their averaged field values, a form of meta user.\n",
    "    \"\"\"\n",
    "    fr_df = fr_df.copy()\n",
    "    dfpc = list(fr_df.iloc[:,dfsi:dfei].drop(columns=dc).sort_values(sort_ind).set_index(sort_ind).columns)\n",
    "    \n",
    "    # print(f'Columns to parse: {dfpc}\\n')\n",
    "    \n",
    "    agd = {mltc: 'sum'}\n",
    "    agdc = [mltc]\n",
    "    for genre in dfpc:\n",
    "        agd[mltc + '_' + genre] = 'sum'\n",
    "        fr_df[mltc + '_' + genre] = fr_df[genre] * fr_df[mltc]**mexp\n",
    "        agdc.append(mltc + '_' + genre)\n",
    "        \n",
    "    # print(f'Aggregate column operations: {agd}\\n')\n",
    "    # print(f'Columns to remove at end: {agdc}\\n')\n",
    "        \n",
    "    df_agg = fr_df.groupby([sort_ind]).agg(agd)\n",
    "        \n",
    "    for genre in dfpc:\n",
    "        df_agg['wgtd_' + genre] = (df_agg[mltc + '_' + genre] / df_agg[mltc]**dexp)\n",
    "        # The above assignment could be rounded but I don't think this is needed.\n",
    "        \n",
    "    return df_agg.drop(columns=agdc)"
   ]
  },
  {
   "cell_type": "code",
   "execution_count": 27,
   "id": "dd3ec7a7",
   "metadata": {
    "ExecuteTime": {
     "end_time": "2021-05-06T01:17:50.716739Z",
     "start_time": "2021-05-06T01:17:49.445383Z"
    }
   },
   "outputs": [],
   "source": [
    "uwdf = gen_user_weights(merged_movie_r_df_sample, mexp=2, dexp=2)\n",
    "# uwdf"
   ]
  },
  {
   "cell_type": "code",
   "execution_count": 28,
   "id": "9e1e4c80",
   "metadata": {
    "ExecuteTime": {
     "end_time": "2021-05-06T01:17:56.737689Z",
     "start_time": "2021-05-06T01:17:50.720337Z"
    }
   },
   "outputs": [],
   "source": [
    "merged_movie_r_df_imp_e = expandvectormax(merged_movie_r_df_imp, s=100, si=9, ei=36)"
   ]
  },
  {
   "cell_type": "code",
   "execution_count": 29,
   "id": "8368412c",
   "metadata": {
    "ExecuteTime": {
     "end_time": "2021-05-06T01:17:57.706445Z",
     "start_time": "2021-05-06T01:17:56.739959Z"
    }
   },
   "outputs": [],
   "source": [
    "merged_movie_r_df_spl_e = expandvectormax(merged_movie_r_df_sample, s=100, si=8, ei=20, zb=1)\n",
    "merged_movie_r_df_spl_e = merged_movie_r_df_spl_e.where(pd.notnull(merged_movie_r_df_spl_e), 1)"
   ]
  },
  {
   "cell_type": "code",
   "execution_count": 30,
   "id": "d211d6d8",
   "metadata": {
    "ExecuteTime": {
     "end_time": "2021-05-06T01:18:02.872165Z",
     "start_time": "2021-05-06T01:17:57.708608Z"
    }
   },
   "outputs": [],
   "source": [
    "merged_movie_r_df_imp_r = merged_movie_r_df_imp_e.drop(columns=[\n",
    "       'gnr_Action', 'gnr_Adult', 'gnr_Adventure', 'gnr_Animation',\n",
    "       'gnr_Biography', 'gnr_Comedy', 'gnr_Crime', 'gnr_Documentary',\n",
    "       'gnr_Drama', 'gnr_Family', 'gnr_Fantasy', 'gnr_Film-Noir',\n",
    "       'gnr_History', 'gnr_Horror', 'gnr_Music', 'gnr_Mystery', 'gnr_Romance',\n",
    "       'gnr_Sci-Fi', 'gnr_Sport', 'gnr_Thriller', 'gnr_War', 'gnr_Western',\n",
    "       'original_language_en', 'original_language_hi', 'original_language_it',\n",
    "       'original_language_ja', 'original_language_sv'])"
   ]
  },
  {
   "cell_type": "markdown",
   "id": "c02c26e6",
   "metadata": {},
   "source": [
    "# Spark content below"
   ]
  },
  {
   "cell_type": "code",
   "execution_count": 31,
   "id": "cultural-optimization",
   "metadata": {
    "ExecuteTime": {
     "end_time": "2021-05-06T01:20:19.078498Z",
     "start_time": "2021-05-06T01:18:02.878038Z"
    }
   },
   "outputs": [],
   "source": [
    "rec_sdf_r = spark.createDataFrame(merged_movie_r_df_sample) # largest tested load sample: 1 million"
   ]
  },
  {
   "cell_type": "code",
   "execution_count": 32,
   "id": "later-progress",
   "metadata": {
    "ExecuteTime": {
     "end_time": "2021-05-06T01:20:52.421924Z",
     "start_time": "2021-05-06T01:20:19.080398Z"
    }
   },
   "outputs": [
    {
     "name": "stdout",
     "output_type": "stream",
     "text": [
      "Number of unique users: 142350\n",
      "Number of unique movies: 18344\n",
      "Number of rating: 1000000\n"
     ]
    },
    {
     "data": {
      "text/plain": [
       "0.00038295565480744913"
      ]
     },
     "execution_count": 32,
     "metadata": {},
     "output_type": "execute_result"
    }
   ],
   "source": [
    "print('Number of unique users: {}'.format(rec_sdf_r.select('userId').distinct().count()))\n",
    "print('Number of unique movies: {}'.format(rec_sdf_r.select('movieId').distinct().count()))\n",
    "print('Number of rating: {}'.format(rec_sdf_r.count()))\n",
    "# The density of this sample matrix is \n",
    "rec_sdf_r.count()/(rec_sdf_r.select('userId').distinct().count()*rec_sdf_r.select('movieId').distinct().count())"
   ]
  },
  {
   "cell_type": "code",
   "execution_count": 33,
   "id": "figured-hungarian",
   "metadata": {
    "ExecuteTime": {
     "end_time": "2021-05-06T01:21:03.720526Z",
     "start_time": "2021-05-06T01:20:52.431046Z"
    }
   },
   "outputs": [
    {
     "data": {
      "text/plain": [
       "(799925, 200075)"
      ]
     },
     "execution_count": 33,
     "metadata": {},
     "output_type": "execute_result"
    }
   ],
   "source": [
    "#Making split for sample\n",
    "train, test = rec_sdf_r.randomSplit([0.8, 0.2], seed=10)\n",
    "train.count(), test.count()"
   ]
  },
  {
   "cell_type": "code",
   "execution_count": 34,
   "id": "dress-copyright",
   "metadata": {
    "ExecuteTime": {
     "end_time": "2021-05-06T01:21:10.008158Z",
     "start_time": "2021-05-06T01:21:03.729188Z"
    }
   },
   "outputs": [
    {
     "name": "stdout",
     "output_type": "stream",
     "text": [
      "Max Ratings: 724\n",
      "Min Ratings: 1\n"
     ]
    },
    {
     "data": {
      "text/plain": [
       "<AxesSubplot:>"
      ]
     },
     "execution_count": 34,
     "metadata": {},
     "output_type": "execute_result"
    },
    {
     "data": {
      "image/png": "[encoded data removed]",
      "text/plain": [
       "<Figure size 432x288 with 1 Axes>"
      ]
     },
     "metadata": {
      "needs_background": "light"
     },
     "output_type": "display_data"
    }
   ],
   "source": [
    "user_count = train.groupBy('userId').count().toPandas()\n",
    "\n",
    "print('Max Ratings: {}'.format(user_count['count'].max()))\n",
    "print('Min Ratings: {}'.format(user_count['count'].min()))\n",
    "user_count['count'].hist(bins = 100)"
   ]
  },
  {
   "cell_type": "code",
   "execution_count": 35,
   "id": "fluid-edwards",
   "metadata": {
    "ExecuteTime": {
     "end_time": "2021-05-06T01:21:16.339267Z",
     "start_time": "2021-05-06T01:21:10.012494Z"
    }
   },
   "outputs": [
    {
     "name": "stdout",
     "output_type": "stream",
     "text": [
      "Max Ratings: 2695\n",
      "Min Ratings: 1\n"
     ]
    },
    {
     "data": {
      "text/plain": [
       "<AxesSubplot:>"
      ]
     },
     "execution_count": 35,
     "metadata": {},
     "output_type": "execute_result"
    },
    {
     "data": {
      "image/png": "[encoded data removed]",
      "text/plain": [
       "<Figure size 432x288 with 1 Axes>"
      ]
     },
     "metadata": {
      "needs_background": "light"
     },
     "output_type": "display_data"
    }
   ],
   "source": [
    "movie_count = train.groupBy('movieId').count().toPandas()\n",
    "\n",
    "print('Max Ratings: {}'.format(movie_count['count'].max()))\n",
    "print('Min Ratings: {}'.format(movie_count['count'].min()))\n",
    "movie_count['count'].hist(bins = 100)"
   ]
  },
  {
   "cell_type": "code",
   "execution_count": 36,
   "id": "sonic-large",
   "metadata": {
    "ExecuteTime": {
     "end_time": "2021-05-06T01:21:24.953201Z",
     "start_time": "2021-05-06T01:21:16.349513Z"
    }
   },
   "outputs": [
    {
     "name": "stdout",
     "output_type": "stream",
     "text": [
      "Max Ratings: 179\n",
      "Min Ratings: 1\n"
     ]
    },
    {
     "data": {
      "text/plain": [
       "<AxesSubplot:>"
      ]
     },
     "execution_count": 36,
     "metadata": {},
     "output_type": "execute_result"
    },
    {
     "data": {
      "image/png": "[encoded data removed]",
      "text/plain": [
       "<Figure size 432x288 with 1 Axes>"
      ]
     },
     "metadata": {
      "needs_background": "light"
     },
     "output_type": "display_data"
    }
   ],
   "source": [
    "user_count = test.groupBy('userId').count().toPandas()\n",
    "\n",
    "print('Max Ratings: {}'.format(user_count['count'].max()))\n",
    "print('Min Ratings: {}'.format(user_count['count'].min()))\n",
    "user_count['count'].hist(bins = 100)"
   ]
  },
  {
   "cell_type": "code",
   "execution_count": 37,
   "id": "specific-anxiety",
   "metadata": {
    "ExecuteTime": {
     "end_time": "2021-05-06T01:21:52.903464Z",
     "start_time": "2021-05-06T01:21:24.956154Z"
    }
   },
   "outputs": [],
   "source": [
    "als_model = ALS(userCol='userId',\n",
    "                itemCol='movieId',\n",
    "                ratingCol='rating',\n",
    "                nonnegative=True,\n",
    "                regParam=0.1,\n",
    "                rank=10\n",
    "               )\n",
    "\n",
    "recommender = als_model.fit(train)"
   ]
  },
  {
   "cell_type": "markdown",
   "id": "aging-easter",
   "metadata": {},
   "source": [
    "# This kind sample will need to be recreated from a class object that holds user parameters.\n",
    "The ideal goal is to be able to catalogue distinct user profiles that each hold their information. The goal is to write their profiles to file/database to be able to call them as required."
   ]
  },
  {
   "cell_type": "code",
   "execution_count": 38,
   "id": "rural-appreciation",
   "metadata": {
    "ExecuteTime": {
     "end_time": "2021-05-06T01:21:53.066122Z",
     "start_time": "2021-05-06T01:21:52.905945Z"
    }
   },
   "outputs": [
    {
     "name": "stdout",
     "output_type": "stream",
     "text": [
      "+------+-------+\n",
      "|userId|movieId|\n",
      "+------+-------+\n",
      "| 51787|    524|\n",
      "+------+-------+\n",
      "\n"
     ]
    }
   ],
   "source": [
    "data = [(51787, 524)]\n",
    "columns = ('userId', 'movieId')\n",
    "one_row_spark_df = spark.createDataFrame(data, columns)\n",
    "one_row_spark_df.show()"
   ]
  },
  {
   "cell_type": "code",
   "execution_count": 39,
   "id": "running-facility",
   "metadata": {
    "ExecuteTime": {
     "end_time": "2021-05-06T01:21:53.340660Z",
     "start_time": "2021-05-06T01:21:53.069155Z"
    }
   },
   "outputs": [],
   "source": [
    "user_factor_df = recommender.userFactors.filter('id = 51787')\n",
    "item_factor_df = recommender.itemFactors.filter('id = 524')"
   ]
  },
  {
   "cell_type": "code",
   "execution_count": 40,
   "id": "derived-wiring",
   "metadata": {
    "ExecuteTime": {
     "end_time": "2021-05-06T01:21:53.630982Z",
     "start_time": "2021-05-06T01:21:53.343703Z"
    }
   },
   "outputs": [],
   "source": [
    "user_factors = user_factor_df.collect()[0]['features']\n",
    "item_factors = item_factor_df.collect()[0]['features']"
   ]
  },
  {
   "cell_type": "code",
   "execution_count": 41,
   "id": "offensive-computer",
   "metadata": {
    "ExecuteTime": {
     "end_time": "2021-05-06T01:21:53.638732Z",
     "start_time": "2021-05-06T01:21:53.633174Z"
    }
   },
   "outputs": [
    {
     "data": {
      "text/plain": [
       "3.948134817400506"
      ]
     },
     "execution_count": 41,
     "metadata": {},
     "output_type": "execute_result"
    }
   ],
   "source": [
    "np.dot(user_factors, item_factors)"
   ]
  },
  {
   "cell_type": "code",
   "execution_count": 42,
   "id": "subsequent-brick",
   "metadata": {
    "ExecuteTime": {
     "end_time": "2021-05-06T01:21:59.180731Z",
     "start_time": "2021-05-06T01:21:53.642551Z"
    }
   },
   "outputs": [
    {
     "name": "stdout",
     "output_type": "stream",
     "text": [
      "+------+-------+----------+\n",
      "|userId|movieId|prediction|\n",
      "+------+-------+----------+\n",
      "| 51787|    524|  3.948135|\n",
      "+------+-------+----------+\n",
      "\n"
     ]
    }
   ],
   "source": [
    "# Get the recommender's prediction\n",
    "recommender.transform(one_row_spark_df).show()"
   ]
  },
  {
   "cell_type": "code",
   "execution_count": 43,
   "id": "provincial-possession",
   "metadata": {
    "ExecuteTime": {
     "end_time": "2021-05-06T01:22:29.164884Z",
     "start_time": "2021-05-06T01:21:59.193210Z"
    }
   },
   "outputs": [
    {
     "name": "stdout",
     "output_type": "stream",
     "text": [
      "+------+---------------------------------------------------------------------------------------------------------------------------------------------------------------------------------------------------------+\n",
      "|userId|recommendations                                                                                                                                                                                          |\n",
      "+------+---------------------------------------------------------------------------------------------------------------------------------------------------------------------------------------------------------+\n",
      "|51787 |[{141359, 6.5876117}, {82227, 6.449973}, {146210, 6.3654866}, {140759, 6.248904}, {165239, 6.048399}, {106173, 5.8658795}, {111757, 5.8658795}, {112988, 5.860007}, {2308, 5.8493047}, {3533, 5.7280893}]|\n",
      "+------+---------------------------------------------------------------------------------------------------------------------------------------------------------------------------------------------------------+\n",
      "\n"
     ]
    }
   ],
   "source": [
    "# Get the top movies for a user 1\n",
    "\n",
    "recommender.recommendForUserSubset(one_row_spark_df, 10).show(10, False)"
   ]
  },
  {
   "cell_type": "markdown",
   "id": "aa4fca5d",
   "metadata": {},
   "source": [
    "# Recommender output summary and next steps\n",
    "The recommender can target a single user within the dataframe and deliver a recommendation for them. Try to find a way to recommend to a user who is not within the dataset.\n",
    "\n",
    "Possible solution: https://datascience.stackexchange.com/questions/14744/spark-als-recommending-for-new-users\n",
    "Fold-In explanation:\n",
    "\n",
    "\n",
    "Lots of questions here. First, for a truly new user with no data, there is no way to use a recommender model. If you have literally no information on the user, the only thing you can do is provide some default recommendations.\n",
    "\n",
    "Of course, once you have any data, and you can rebuild the model to incorporate the user, you can make recommendations. You can do that in Spark but you already know that. This will take too long if you need to add information about new users at runtime. The technique you want is called \"fold-in\", used to figure out what the new user vector is (approximately) given the items the user interacts with. It's just some linear algebra and does follow from the equation you give.\n",
    "\n"
   ]
  },
  {
   "cell_type": "code",
   "execution_count": 44,
   "id": "female-register",
   "metadata": {
    "ExecuteTime": {
     "end_time": "2021-05-06T01:22:29.243291Z",
     "start_time": "2021-05-06T01:22:29.168466Z"
    }
   },
   "outputs": [],
   "source": [
    "predictions = recommender.transform(test)"
   ]
  },
  {
   "cell_type": "code",
   "execution_count": 45,
   "id": "appointed-collins",
   "metadata": {
    "ExecuteTime": {
     "end_time": "2021-05-06T01:22:30.989151Z",
     "start_time": "2021-05-06T01:22:29.246442Z"
    }
   },
   "outputs": [
    {
     "name": "stdout",
     "output_type": "stream",
     "text": [
      "+------+----------+------------+----------+---------+--------------+-------------+--------+----------+-------------+----------+---------------+---------+----------+----------+------------+--------------------+--------------------+--------------------+--------------------+------+-------+------+--------+----------+\n",
      "|budget|popularity|vote_average|vote_count|startYear|runtimeMinutes|averageRating|numVotes|gnr_Action|gnr_Adventure|gnr_Comedy|gnr_Documentary|gnr_Drama|gnr_Horror|gnr_Sci-Fi|gnr_Thriller|original_language_en|original_language_hi|original_language_it|original_language_ja|userId|movieId|rating|timeyear|imp_rating|\n",
      "+------+----------+------------+----------+---------+--------------+-------------+--------+----------+-------------+----------+---------------+---------+----------+----------+------------+--------------------+--------------------+--------------------+--------------------+------+-------+------+--------+----------+\n",
      "|   1.0|      2.88|        3.75|        14|     1998|         100.0|         3.55|    2224|         0|            0|         0|              0|        1|         0|         0|           0|                   1|                   0|                   0|                   0|  5126|   2305|   4.0|    2001|         1|\n",
      "|   1.0|     8.477|         2.6|        60|     1999|         100.0|          2.5|    6205|         0|            0|         1|              0|        0|         0|         0|           0|                   1|                   0|                   0|                   0| 26413|   2597|   2.5|    2005|         1|\n",
      "|   1.0|     8.477|         2.6|        60|     1999|         100.0|          2.5|    6205|         0|            0|         1|              0|        0|         0|         0|           0|                   1|                   0|                   0|                   0| 60655|   2597|   2.5|    2010|         1|\n",
      "|   1.0|    10.047|         3.8|       471|     1955|         118.0|         3.95|   40948|         0|            0|         0|              0|        1|         0|         0|           0|                   1|                   0|                   0|                   0| 10885|    949|   3.5|    2007|         1|\n",
      "|   1.0|    10.047|         3.8|       471|     1955|         118.0|         3.95|   40948|         0|            0|         0|              0|        1|         0|         0|           0|                   1|                   0|                   0|                   0| 24907|    949|   5.0|    2007|         1|\n",
      "+------+----------+------------+----------+---------+--------------+-------------+--------+----------+-------------+----------+---------------+---------+----------+----------+------------+--------------------+--------------------+--------------------+--------------------+------+-------+------+--------+----------+\n",
      "only showing top 5 rows\n",
      "\n"
     ]
    }
   ],
   "source": [
    "# add the implicit rating column\n",
    "\n",
    "train = train.withColumn(\"imp_rating\", lit(1))\n",
    "train.show(5)"
   ]
  },
  {
   "cell_type": "code",
   "execution_count": 46,
   "id": "integral-restriction",
   "metadata": {
    "ExecuteTime": {
     "end_time": "2021-05-06T01:22:59.719075Z",
     "start_time": "2021-05-06T01:22:30.991651Z"
    }
   },
   "outputs": [],
   "source": [
    "als_model_imp = ALS(userCol='userId',\n",
    "                itemCol='movieId',\n",
    "                ratingCol='imp_rating',\n",
    "                implicitPrefs=True,\n",
    "                nonnegative=True,\n",
    "                regParam=0.1,\n",
    "                rank=10\n",
    "               )\n",
    "\n",
    "recommender_imp = als_model_imp.fit(train)"
   ]
  },
  {
   "cell_type": "code",
   "execution_count": 47,
   "id": "empirical-portsmouth",
   "metadata": {
    "ExecuteTime": {
     "end_time": "2021-05-06T01:23:28.317364Z",
     "start_time": "2021-05-06T01:22:59.722629Z"
    }
   },
   "outputs": [
    {
     "data": {
      "text/plain": [
       "[Row(userId=51787, recommendations=[Row(movieId=1, rating=0.40151000022888184), Row(movieId=589, rating=0.39860299229621887), Row(movieId=110, rating=0.3970448076725006), Row(movieId=380, rating=0.2654477059841156), Row(movieId=3578, rating=0.22490471601486206), Row(movieId=344, rating=0.053770437836647034), Row(movieId=231, rating=0.0458681620657444), Row(movieId=364, rating=0.037108924239873886), Row(movieId=111, rating=0.03634877875447273), Row(movieId=597, rating=0.03208521753549576)])]"
      ]
     },
     "execution_count": 47,
     "metadata": {},
     "output_type": "execute_result"
    }
   ],
   "source": [
    "# Looking at the recommendations for user 1 to compare to what the explicit gave back \n",
    "recommender_imp.recommendForUserSubset(one_row_spark_df, 10).collect()"
   ]
  },
  {
   "cell_type": "code",
   "execution_count": 48,
   "id": "actual-extent",
   "metadata": {
    "ExecuteTime": {
     "end_time": "2021-05-06T01:23:48.061679Z",
     "start_time": "2021-05-06T01:23:28.325573Z"
    }
   },
   "outputs": [],
   "source": [
    "als_model_imp = ALS(userCol='userId',\n",
    "                itemCol='movieId',\n",
    "                ratingCol='rating',\n",
    "                implicitPrefs=True,\n",
    "                nonnegative=True,\n",
    "                regParam=0.1,\n",
    "                rank=10\n",
    "               )\n",
    "\n",
    "recommender_imp = als_model_imp.fit(train)"
   ]
  },
  {
   "cell_type": "code",
   "execution_count": 49,
   "id": "corresponding-drive",
   "metadata": {
    "ExecuteTime": {
     "end_time": "2021-05-06T01:24:04.843965Z",
     "start_time": "2021-05-06T01:23:48.063873Z"
    }
   },
   "outputs": [
    {
     "data": {
      "text/plain": [
       "[Row(userId=51787, recommendations=[Row(movieId=589, rating=0.5122790336608887), Row(movieId=110, rating=0.5118929743766785), Row(movieId=1, rating=0.5084799528121948), Row(movieId=3578, rating=0.4259767234325409), Row(movieId=1089, rating=0.3777698576450348), Row(movieId=380, rating=0.377691388130188), Row(movieId=1097, rating=0.2937101423740387), Row(movieId=111, rating=0.2923208773136139), Row(movieId=1682, rating=0.27422600984573364), Row(movieId=1246, rating=0.22245405614376068)])]"
      ]
     },
     "execution_count": 49,
     "metadata": {},
     "output_type": "execute_result"
    }
   ],
   "source": [
    "recommender_imp.recommendForUserSubset(one_row_spark_df, 10).collect()"
   ]
  },
  {
   "cell_type": "code",
   "execution_count": 50,
   "id": "placed-victory",
   "metadata": {
    "ExecuteTime": {
     "end_time": "2021-05-06T01:24:38.838553Z",
     "start_time": "2021-05-06T01:24:04.870260Z"
    }
   },
   "outputs": [],
   "source": [
    "# Dump the predictions to Pandas DataFrames to make our final calculations easier\n",
    "predictions_df = predictions.toPandas()\n",
    "train_df = train.toPandas()"
   ]
  },
  {
   "cell_type": "code",
   "execution_count": 51,
   "id": "characteristic-plaintiff",
   "metadata": {
    "ExecuteTime": {
     "end_time": "2021-05-06T01:24:43.915110Z",
     "start_time": "2021-05-06T01:24:38.840680Z"
    }
   },
   "outputs": [],
   "source": [
    "# Fill any missing values with the mean rating\n",
    "# There are multiple things you could fill with, this is just one example\n",
    "predictions_df = predictions.toPandas().fillna(train_df['rating'].mean())"
   ]
  },
  {
   "cell_type": "code",
   "execution_count": 52,
   "id": "artificial-syndrome",
   "metadata": {
    "ExecuteTime": {
     "end_time": "2021-05-06T01:24:43.929753Z",
     "start_time": "2021-05-06T01:24:43.917387Z"
    }
   },
   "outputs": [],
   "source": [
    "predictions_df['squared_error'] = (predictions_df['rating'] - predictions_df['prediction'])**2"
   ]
  },
  {
   "cell_type": "code",
   "execution_count": 53,
   "id": "interracial-muscle",
   "metadata": {
    "ExecuteTime": {
     "end_time": "2021-05-06T01:24:43.960964Z",
     "start_time": "2021-05-06T01:24:43.931912Z"
    }
   },
   "outputs": [
    {
     "data": {
      "text/html": [
       "<div>\n",
       "<style scoped>\n",
       "    .dataframe tbody tr th:only-of-type {\n",
       "        vertical-align: middle;\n",
       "    }\n",
       "\n",
       "    .dataframe tbody tr th {\n",
       "        vertical-align: top;\n",
       "    }\n",
       "\n",
       "    .dataframe thead th {\n",
       "        text-align: right;\n",
       "    }\n",
       "</style>\n",
       "<table border=\"1\" class=\"dataframe\">\n",
       "  <thead>\n",
       "    <tr style=\"text-align: right;\">\n",
       "      <th></th>\n",
       "      <th>budget</th>\n",
       "      <th>popularity</th>\n",
       "      <th>vote_average</th>\n",
       "      <th>vote_count</th>\n",
       "      <th>startYear</th>\n",
       "      <th>runtimeMinutes</th>\n",
       "      <th>averageRating</th>\n",
       "      <th>numVotes</th>\n",
       "      <th>gnr_Action</th>\n",
       "      <th>gnr_Adventure</th>\n",
       "      <th>gnr_Comedy</th>\n",
       "      <th>gnr_Documentary</th>\n",
       "      <th>gnr_Drama</th>\n",
       "      <th>gnr_Horror</th>\n",
       "      <th>gnr_Sci-Fi</th>\n",
       "      <th>gnr_Thriller</th>\n",
       "      <th>original_language_en</th>\n",
       "      <th>original_language_hi</th>\n",
       "      <th>original_language_it</th>\n",
       "      <th>original_language_ja</th>\n",
       "      <th>userId</th>\n",
       "      <th>movieId</th>\n",
       "      <th>rating</th>\n",
       "      <th>timeyear</th>\n",
       "      <th>prediction</th>\n",
       "      <th>squared_error</th>\n",
       "    </tr>\n",
       "  </thead>\n",
       "  <tbody>\n",
       "    <tr>\n",
       "      <th>0</th>\n",
       "      <td>4000000.0</td>\n",
       "      <td>6.213</td>\n",
       "      <td>3.50</td>\n",
       "      <td>29</td>\n",
       "      <td>1995</td>\n",
       "      <td>112.0</td>\n",
       "      <td>3.0</td>\n",
       "      <td>2626</td>\n",
       "      <td>0</td>\n",
       "      <td>0</td>\n",
       "      <td>1</td>\n",
       "      <td>0</td>\n",
       "      <td>1</td>\n",
       "      <td>0</td>\n",
       "      <td>0</td>\n",
       "      <td>0</td>\n",
       "      <td>1</td>\n",
       "      <td>0</td>\n",
       "      <td>0</td>\n",
       "      <td>0</td>\n",
       "      <td>132310</td>\n",
       "      <td>148</td>\n",
       "      <td>3.0</td>\n",
       "      <td>1996</td>\n",
       "      <td>2.068438</td>\n",
       "      <td>0.867807</td>\n",
       "    </tr>\n",
       "    <tr>\n",
       "      <th>1</th>\n",
       "      <td>4000000.0</td>\n",
       "      <td>6.213</td>\n",
       "      <td>3.50</td>\n",
       "      <td>29</td>\n",
       "      <td>1995</td>\n",
       "      <td>112.0</td>\n",
       "      <td>3.0</td>\n",
       "      <td>2626</td>\n",
       "      <td>0</td>\n",
       "      <td>0</td>\n",
       "      <td>1</td>\n",
       "      <td>0</td>\n",
       "      <td>1</td>\n",
       "      <td>0</td>\n",
       "      <td>0</td>\n",
       "      <td>0</td>\n",
       "      <td>1</td>\n",
       "      <td>0</td>\n",
       "      <td>0</td>\n",
       "      <td>0</td>\n",
       "      <td>48928</td>\n",
       "      <td>148</td>\n",
       "      <td>2.0</td>\n",
       "      <td>2000</td>\n",
       "      <td>1.424011</td>\n",
       "      <td>0.331764</td>\n",
       "    </tr>\n",
       "    <tr>\n",
       "      <th>2</th>\n",
       "      <td>4000000.0</td>\n",
       "      <td>6.213</td>\n",
       "      <td>3.50</td>\n",
       "      <td>29</td>\n",
       "      <td>1995</td>\n",
       "      <td>112.0</td>\n",
       "      <td>3.0</td>\n",
       "      <td>2626</td>\n",
       "      <td>0</td>\n",
       "      <td>0</td>\n",
       "      <td>1</td>\n",
       "      <td>0</td>\n",
       "      <td>1</td>\n",
       "      <td>0</td>\n",
       "      <td>0</td>\n",
       "      <td>0</td>\n",
       "      <td>1</td>\n",
       "      <td>0</td>\n",
       "      <td>0</td>\n",
       "      <td>0</td>\n",
       "      <td>107249</td>\n",
       "      <td>148</td>\n",
       "      <td>4.0</td>\n",
       "      <td>2001</td>\n",
       "      <td>2.133359</td>\n",
       "      <td>3.484349</td>\n",
       "    </tr>\n",
       "    <tr>\n",
       "      <th>3</th>\n",
       "      <td>25000000.0</td>\n",
       "      <td>10.682</td>\n",
       "      <td>3.55</td>\n",
       "      <td>697</td>\n",
       "      <td>1994</td>\n",
       "      <td>111.0</td>\n",
       "      <td>3.6</td>\n",
       "      <td>77498</td>\n",
       "      <td>0</td>\n",
       "      <td>0</td>\n",
       "      <td>1</td>\n",
       "      <td>0</td>\n",
       "      <td>1</td>\n",
       "      <td>0</td>\n",
       "      <td>0</td>\n",
       "      <td>0</td>\n",
       "      <td>1</td>\n",
       "      <td>0</td>\n",
       "      <td>0</td>\n",
       "      <td>0</td>\n",
       "      <td>62935</td>\n",
       "      <td>471</td>\n",
       "      <td>4.0</td>\n",
       "      <td>2004</td>\n",
       "      <td>3.480148</td>\n",
       "      <td>0.270246</td>\n",
       "    </tr>\n",
       "    <tr>\n",
       "      <th>4</th>\n",
       "      <td>25000000.0</td>\n",
       "      <td>10.682</td>\n",
       "      <td>3.55</td>\n",
       "      <td>697</td>\n",
       "      <td>1994</td>\n",
       "      <td>111.0</td>\n",
       "      <td>3.6</td>\n",
       "      <td>77498</td>\n",
       "      <td>0</td>\n",
       "      <td>0</td>\n",
       "      <td>1</td>\n",
       "      <td>0</td>\n",
       "      <td>1</td>\n",
       "      <td>0</td>\n",
       "      <td>0</td>\n",
       "      <td>0</td>\n",
       "      <td>1</td>\n",
       "      <td>0</td>\n",
       "      <td>0</td>\n",
       "      <td>0</td>\n",
       "      <td>112101</td>\n",
       "      <td>471</td>\n",
       "      <td>2.0</td>\n",
       "      <td>1999</td>\n",
       "      <td>3.414843</td>\n",
       "      <td>2.001780</td>\n",
       "    </tr>\n",
       "  </tbody>\n",
       "</table>\n",
       "</div>"
      ],
      "text/plain": [
       "       budget  popularity  vote_average  vote_count  startYear  \\\n",
       "0   4000000.0       6.213          3.50          29       1995   \n",
       "1   4000000.0       6.213          3.50          29       1995   \n",
       "2   4000000.0       6.213          3.50          29       1995   \n",
       "3  25000000.0      10.682          3.55         697       1994   \n",
       "4  25000000.0      10.682          3.55         697       1994   \n",
       "\n",
       "   runtimeMinutes  averageRating  numVotes  gnr_Action  gnr_Adventure  \\\n",
       "0           112.0            3.0      2626           0              0   \n",
       "1           112.0            3.0      2626           0              0   \n",
       "2           112.0            3.0      2626           0              0   \n",
       "3           111.0            3.6     77498           0              0   \n",
       "4           111.0            3.6     77498           0              0   \n",
       "\n",
       "   gnr_Comedy  gnr_Documentary  gnr_Drama  gnr_Horror  gnr_Sci-Fi  \\\n",
       "0           1                0          1           0           0   \n",
       "1           1                0          1           0           0   \n",
       "2           1                0          1           0           0   \n",
       "3           1                0          1           0           0   \n",
       "4           1                0          1           0           0   \n",
       "\n",
       "   gnr_Thriller  original_language_en  original_language_hi  \\\n",
       "0             0                     1                     0   \n",
       "1             0                     1                     0   \n",
       "2             0                     1                     0   \n",
       "3             0                     1                     0   \n",
       "4             0                     1                     0   \n",
       "\n",
       "   original_language_it  original_language_ja  userId  movieId  rating  \\\n",
       "0                     0                     0  132310      148     3.0   \n",
       "1                     0                     0   48928      148     2.0   \n",
       "2                     0                     0  107249      148     4.0   \n",
       "3                     0                     0   62935      471     4.0   \n",
       "4                     0                     0  112101      471     2.0   \n",
       "\n",
       "   timeyear  prediction  squared_error  \n",
       "0      1996    2.068438       0.867807  \n",
       "1      2000    1.424011       0.331764  \n",
       "2      2001    2.133359       3.484349  \n",
       "3      2004    3.480148       0.270246  \n",
       "4      1999    3.414843       2.001780  "
      ]
     },
     "execution_count": 53,
     "metadata": {},
     "output_type": "execute_result"
    }
   ],
   "source": [
    "predictions_df.head()"
   ]
  },
  {
   "cell_type": "code",
   "execution_count": 54,
   "id": "exceptional-pierce",
   "metadata": {
    "ExecuteTime": {
     "end_time": "2021-05-06T01:24:44.179811Z",
     "start_time": "2021-05-06T01:24:43.965347Z"
    }
   },
   "outputs": [
    {
     "data": {
      "text/html": [
       "<div>\n",
       "<style scoped>\n",
       "    .dataframe tbody tr th:only-of-type {\n",
       "        vertical-align: middle;\n",
       "    }\n",
       "\n",
       "    .dataframe tbody tr th {\n",
       "        vertical-align: top;\n",
       "    }\n",
       "\n",
       "    .dataframe thead th {\n",
       "        text-align: right;\n",
       "    }\n",
       "</style>\n",
       "<table border=\"1\" class=\"dataframe\">\n",
       "  <thead>\n",
       "    <tr style=\"text-align: right;\">\n",
       "      <th></th>\n",
       "      <th>budget</th>\n",
       "      <th>popularity</th>\n",
       "      <th>vote_average</th>\n",
       "      <th>vote_count</th>\n",
       "      <th>startYear</th>\n",
       "      <th>runtimeMinutes</th>\n",
       "      <th>averageRating</th>\n",
       "      <th>numVotes</th>\n",
       "      <th>gnr_Action</th>\n",
       "      <th>gnr_Adventure</th>\n",
       "      <th>gnr_Comedy</th>\n",
       "      <th>gnr_Documentary</th>\n",
       "      <th>gnr_Drama</th>\n",
       "      <th>gnr_Horror</th>\n",
       "      <th>gnr_Sci-Fi</th>\n",
       "      <th>gnr_Thriller</th>\n",
       "      <th>original_language_en</th>\n",
       "      <th>original_language_hi</th>\n",
       "      <th>original_language_it</th>\n",
       "      <th>original_language_ja</th>\n",
       "      <th>userId</th>\n",
       "      <th>movieId</th>\n",
       "      <th>rating</th>\n",
       "      <th>timeyear</th>\n",
       "      <th>prediction</th>\n",
       "      <th>squared_error</th>\n",
       "    </tr>\n",
       "  </thead>\n",
       "  <tbody>\n",
       "    <tr>\n",
       "      <th>count</th>\n",
       "      <td>2.000750e+05</td>\n",
       "      <td>200075.000000</td>\n",
       "      <td>200075.000000</td>\n",
       "      <td>200075.000000</td>\n",
       "      <td>200075.000000</td>\n",
       "      <td>200075.000000</td>\n",
       "      <td>200075.000000</td>\n",
       "      <td>2.000750e+05</td>\n",
       "      <td>200075.000000</td>\n",
       "      <td>200075.000000</td>\n",
       "      <td>200075.000000</td>\n",
       "      <td>200075.000000</td>\n",
       "      <td>200075.000000</td>\n",
       "      <td>200075.000000</td>\n",
       "      <td>200075.000000</td>\n",
       "      <td>200075.000000</td>\n",
       "      <td>200075.000000</td>\n",
       "      <td>200075.000000</td>\n",
       "      <td>200075.000000</td>\n",
       "      <td>200075.000000</td>\n",
       "      <td>200075.000000</td>\n",
       "      <td>200075.000000</td>\n",
       "      <td>200075.000000</td>\n",
       "      <td>200075.000000</td>\n",
       "      <td>200075.000000</td>\n",
       "      <td>200075.000000</td>\n",
       "    </tr>\n",
       "    <tr>\n",
       "      <th>mean</th>\n",
       "      <td>4.227080e+07</td>\n",
       "      <td>21.556900</td>\n",
       "      <td>3.532216</td>\n",
       "      <td>4395.469409</td>\n",
       "      <td>1994.298433</td>\n",
       "      <td>115.915170</td>\n",
       "      <td>3.619472</td>\n",
       "      <td>3.310082e+05</td>\n",
       "      <td>0.293650</td>\n",
       "      <td>0.273482</td>\n",
       "      <td>0.349229</td>\n",
       "      <td>0.010836</td>\n",
       "      <td>0.487632</td>\n",
       "      <td>0.062836</td>\n",
       "      <td>0.127982</td>\n",
       "      <td>0.160405</td>\n",
       "      <td>0.946685</td>\n",
       "      <td>0.000680</td>\n",
       "      <td>0.005518</td>\n",
       "      <td>0.010051</td>\n",
       "      <td>81166.806638</td>\n",
       "      <td>20517.544676</td>\n",
       "      <td>3.539100</td>\n",
       "      <td>2007.970376</td>\n",
       "      <td>3.156434</td>\n",
       "      <td>1.210000</td>\n",
       "    </tr>\n",
       "    <tr>\n",
       "      <th>std</th>\n",
       "      <td>4.671132e+07</td>\n",
       "      <td>19.434651</td>\n",
       "      <td>0.407989</td>\n",
       "      <td>5085.475676</td>\n",
       "      <td>14.866925</td>\n",
       "      <td>23.486629</td>\n",
       "      <td>0.462027</td>\n",
       "      <td>4.051042e+05</td>\n",
       "      <td>0.455435</td>\n",
       "      <td>0.445747</td>\n",
       "      <td>0.476728</td>\n",
       "      <td>0.103531</td>\n",
       "      <td>0.499848</td>\n",
       "      <td>0.242669</td>\n",
       "      <td>0.334071</td>\n",
       "      <td>0.366982</td>\n",
       "      <td>0.224661</td>\n",
       "      <td>0.026063</td>\n",
       "      <td>0.074078</td>\n",
       "      <td>0.099751</td>\n",
       "      <td>46848.742380</td>\n",
       "      <td>37909.421921</td>\n",
       "      <td>1.055644</td>\n",
       "      <td>7.196688</td>\n",
       "      <td>0.755477</td>\n",
       "      <td>1.918145</td>\n",
       "    </tr>\n",
       "    <tr>\n",
       "      <th>min</th>\n",
       "      <td>1.000000e+00</td>\n",
       "      <td>0.600000</td>\n",
       "      <td>0.000000</td>\n",
       "      <td>0.000000</td>\n",
       "      <td>1915.000000</td>\n",
       "      <td>45.000000</td>\n",
       "      <td>0.750000</td>\n",
       "      <td>9.000000e+00</td>\n",
       "      <td>0.000000</td>\n",
       "      <td>0.000000</td>\n",
       "      <td>0.000000</td>\n",
       "      <td>0.000000</td>\n",
       "      <td>0.000000</td>\n",
       "      <td>0.000000</td>\n",
       "      <td>0.000000</td>\n",
       "      <td>0.000000</td>\n",
       "      <td>0.000000</td>\n",
       "      <td>0.000000</td>\n",
       "      <td>0.000000</td>\n",
       "      <td>0.000000</td>\n",
       "      <td>2.000000</td>\n",
       "      <td>1.000000</td>\n",
       "      <td>0.500000</td>\n",
       "      <td>1996.000000</td>\n",
       "      <td>0.038378</td>\n",
       "      <td>0.000000</td>\n",
       "    </tr>\n",
       "    <tr>\n",
       "      <th>25%</th>\n",
       "      <td>1.300000e+07</td>\n",
       "      <td>10.477000</td>\n",
       "      <td>3.250000</td>\n",
       "      <td>745.000000</td>\n",
       "      <td>1990.000000</td>\n",
       "      <td>99.000000</td>\n",
       "      <td>3.350000</td>\n",
       "      <td>6.209600e+04</td>\n",
       "      <td>0.000000</td>\n",
       "      <td>0.000000</td>\n",
       "      <td>0.000000</td>\n",
       "      <td>0.000000</td>\n",
       "      <td>0.000000</td>\n",
       "      <td>0.000000</td>\n",
       "      <td>0.000000</td>\n",
       "      <td>0.000000</td>\n",
       "      <td>1.000000</td>\n",
       "      <td>0.000000</td>\n",
       "      <td>0.000000</td>\n",
       "      <td>0.000000</td>\n",
       "      <td>40437.000000</td>\n",
       "      <td>1196.000000</td>\n",
       "      <td>3.000000</td>\n",
       "      <td>2002.000000</td>\n",
       "      <td>2.695822</td>\n",
       "      <td>0.112991</td>\n",
       "    </tr>\n",
       "    <tr>\n",
       "      <th>50%</th>\n",
       "      <td>2.200000e+07</td>\n",
       "      <td>14.875000</td>\n",
       "      <td>3.550000</td>\n",
       "      <td>2354.000000</td>\n",
       "      <td>1997.000000</td>\n",
       "      <td>113.000000</td>\n",
       "      <td>3.650000</td>\n",
       "      <td>1.787800e+05</td>\n",
       "      <td>0.000000</td>\n",
       "      <td>0.000000</td>\n",
       "      <td>0.000000</td>\n",
       "      <td>0.000000</td>\n",
       "      <td>0.000000</td>\n",
       "      <td>0.000000</td>\n",
       "      <td>0.000000</td>\n",
       "      <td>0.000000</td>\n",
       "      <td>1.000000</td>\n",
       "      <td>0.000000</td>\n",
       "      <td>0.000000</td>\n",
       "      <td>0.000000</td>\n",
       "      <td>80820.000000</td>\n",
       "      <td>2915.000000</td>\n",
       "      <td>3.500000</td>\n",
       "      <td>2007.000000</td>\n",
       "      <td>3.243382</td>\n",
       "      <td>0.475625</td>\n",
       "    </tr>\n",
       "    <tr>\n",
       "      <th>75%</th>\n",
       "      <td>5.700000e+07</td>\n",
       "      <td>24.911000</td>\n",
       "      <td>3.800000</td>\n",
       "      <td>6291.000000</td>\n",
       "      <td>2003.000000</td>\n",
       "      <td>128.000000</td>\n",
       "      <td>3.950000</td>\n",
       "      <td>4.337830e+05</td>\n",
       "      <td>1.000000</td>\n",
       "      <td>1.000000</td>\n",
       "      <td>1.000000</td>\n",
       "      <td>0.000000</td>\n",
       "      <td>1.000000</td>\n",
       "      <td>0.000000</td>\n",
       "      <td>0.000000</td>\n",
       "      <td>0.000000</td>\n",
       "      <td>1.000000</td>\n",
       "      <td>0.000000</td>\n",
       "      <td>0.000000</td>\n",
       "      <td>0.000000</td>\n",
       "      <td>121575.000000</td>\n",
       "      <td>8360.000000</td>\n",
       "      <td>4.000000</td>\n",
       "      <td>2015.000000</td>\n",
       "      <td>3.648552</td>\n",
       "      <td>1.505965</td>\n",
       "    </tr>\n",
       "    <tr>\n",
       "      <th>max</th>\n",
       "      <td>9.653130e+08</td>\n",
       "      <td>376.722000</td>\n",
       "      <td>4.500000</td>\n",
       "      <td>28829.000000</td>\n",
       "      <td>2019.000000</td>\n",
       "      <td>566.000000</td>\n",
       "      <td>4.650000</td>\n",
       "      <td>2.376952e+06</td>\n",
       "      <td>1.000000</td>\n",
       "      <td>1.000000</td>\n",
       "      <td>1.000000</td>\n",
       "      <td>1.000000</td>\n",
       "      <td>1.000000</td>\n",
       "      <td>1.000000</td>\n",
       "      <td>1.000000</td>\n",
       "      <td>1.000000</td>\n",
       "      <td>1.000000</td>\n",
       "      <td>1.000000</td>\n",
       "      <td>1.000000</td>\n",
       "      <td>1.000000</td>\n",
       "      <td>162541.000000</td>\n",
       "      <td>208737.000000</td>\n",
       "      <td>5.000000</td>\n",
       "      <td>2019.000000</td>\n",
       "      <td>6.493049</td>\n",
       "      <td>24.510651</td>\n",
       "    </tr>\n",
       "  </tbody>\n",
       "</table>\n",
       "</div>"
      ],
      "text/plain": [
       "             budget     popularity   vote_average     vote_count  \\\n",
       "count  2.000750e+05  200075.000000  200075.000000  200075.000000   \n",
       "mean   4.227080e+07      21.556900       3.532216    4395.469409   \n",
       "std    4.671132e+07      19.434651       0.407989    5085.475676   \n",
       "min    1.000000e+00       0.600000       0.000000       0.000000   \n",
       "25%    1.300000e+07      10.477000       3.250000     745.000000   \n",
       "50%    2.200000e+07      14.875000       3.550000    2354.000000   \n",
       "75%    5.700000e+07      24.911000       3.800000    6291.000000   \n",
       "max    9.653130e+08     376.722000       4.500000   28829.000000   \n",
       "\n",
       "           startYear  runtimeMinutes  averageRating      numVotes  \\\n",
       "count  200075.000000   200075.000000  200075.000000  2.000750e+05   \n",
       "mean     1994.298433      115.915170       3.619472  3.310082e+05   \n",
       "std        14.866925       23.486629       0.462027  4.051042e+05   \n",
       "min      1915.000000       45.000000       0.750000  9.000000e+00   \n",
       "25%      1990.000000       99.000000       3.350000  6.209600e+04   \n",
       "50%      1997.000000      113.000000       3.650000  1.787800e+05   \n",
       "75%      2003.000000      128.000000       3.950000  4.337830e+05   \n",
       "max      2019.000000      566.000000       4.650000  2.376952e+06   \n",
       "\n",
       "          gnr_Action  gnr_Adventure     gnr_Comedy  gnr_Documentary  \\\n",
       "count  200075.000000  200075.000000  200075.000000    200075.000000   \n",
       "mean        0.293650       0.273482       0.349229         0.010836   \n",
       "std         0.455435       0.445747       0.476728         0.103531   \n",
       "min         0.000000       0.000000       0.000000         0.000000   \n",
       "25%         0.000000       0.000000       0.000000         0.000000   \n",
       "50%         0.000000       0.000000       0.000000         0.000000   \n",
       "75%         1.000000       1.000000       1.000000         0.000000   \n",
       "max         1.000000       1.000000       1.000000         1.000000   \n",
       "\n",
       "           gnr_Drama     gnr_Horror     gnr_Sci-Fi   gnr_Thriller  \\\n",
       "count  200075.000000  200075.000000  200075.000000  200075.000000   \n",
       "mean        0.487632       0.062836       0.127982       0.160405   \n",
       "std         0.499848       0.242669       0.334071       0.366982   \n",
       "min         0.000000       0.000000       0.000000       0.000000   \n",
       "25%         0.000000       0.000000       0.000000       0.000000   \n",
       "50%         0.000000       0.000000       0.000000       0.000000   \n",
       "75%         1.000000       0.000000       0.000000       0.000000   \n",
       "max         1.000000       1.000000       1.000000       1.000000   \n",
       "\n",
       "       original_language_en  original_language_hi  original_language_it  \\\n",
       "count         200075.000000         200075.000000         200075.000000   \n",
       "mean               0.946685              0.000680              0.005518   \n",
       "std                0.224661              0.026063              0.074078   \n",
       "min                0.000000              0.000000              0.000000   \n",
       "25%                1.000000              0.000000              0.000000   \n",
       "50%                1.000000              0.000000              0.000000   \n",
       "75%                1.000000              0.000000              0.000000   \n",
       "max                1.000000              1.000000              1.000000   \n",
       "\n",
       "       original_language_ja         userId        movieId         rating  \\\n",
       "count         200075.000000  200075.000000  200075.000000  200075.000000   \n",
       "mean               0.010051   81166.806638   20517.544676       3.539100   \n",
       "std                0.099751   46848.742380   37909.421921       1.055644   \n",
       "min                0.000000       2.000000       1.000000       0.500000   \n",
       "25%                0.000000   40437.000000    1196.000000       3.000000   \n",
       "50%                0.000000   80820.000000    2915.000000       3.500000   \n",
       "75%                0.000000  121575.000000    8360.000000       4.000000   \n",
       "max                1.000000  162541.000000  208737.000000       5.000000   \n",
       "\n",
       "            timeyear     prediction  squared_error  \n",
       "count  200075.000000  200075.000000  200075.000000  \n",
       "mean     2007.970376       3.156434       1.210000  \n",
       "std         7.196688       0.755477       1.918145  \n",
       "min      1996.000000       0.038378       0.000000  \n",
       "25%      2002.000000       2.695822       0.112991  \n",
       "50%      2007.000000       3.243382       0.475625  \n",
       "75%      2015.000000       3.648552       1.505965  \n",
       "max      2019.000000       6.493049      24.510651  "
      ]
     },
     "execution_count": 54,
     "metadata": {},
     "output_type": "execute_result"
    }
   ],
   "source": [
    "predictions_df.describe()"
   ]
  },
  {
   "cell_type": "code",
   "execution_count": 55,
   "id": "functional-variety",
   "metadata": {
    "ExecuteTime": {
     "end_time": "2021-05-06T01:24:44.205661Z",
     "start_time": "2021-05-06T01:24:44.187700Z"
    }
   },
   "outputs": [
    {
     "data": {
      "text/plain": [
       "1.10000008538827"
      ]
     },
     "execution_count": 55,
     "metadata": {},
     "output_type": "execute_result"
    }
   ],
   "source": [
    "# Calculate RMSE\n",
    "np.sqrt(sum(predictions_df['squared_error']) / len(predictions_df))"
   ]
  },
  {
   "cell_type": "code",
   "execution_count": 56,
   "id": "minute-photographer",
   "metadata": {
    "ExecuteTime": {
     "end_time": "2021-05-06T01:24:44.227562Z",
     "start_time": "2021-05-06T01:24:44.208063Z"
    }
   },
   "outputs": [
    {
     "data": {
      "text/html": [
       "<div>\n",
       "<style scoped>\n",
       "    .dataframe tbody tr th:only-of-type {\n",
       "        vertical-align: middle;\n",
       "    }\n",
       "\n",
       "    .dataframe tbody tr th {\n",
       "        vertical-align: top;\n",
       "    }\n",
       "\n",
       "    .dataframe thead th {\n",
       "        text-align: right;\n",
       "    }\n",
       "</style>\n",
       "<table border=\"1\" class=\"dataframe\">\n",
       "  <thead>\n",
       "    <tr style=\"text-align: right;\">\n",
       "      <th></th>\n",
       "      <th>budget</th>\n",
       "      <th>popularity</th>\n",
       "      <th>vote_average</th>\n",
       "      <th>vote_count</th>\n",
       "      <th>startYear</th>\n",
       "      <th>runtimeMinutes</th>\n",
       "      <th>averageRating</th>\n",
       "      <th>numVotes</th>\n",
       "      <th>gnr_Action</th>\n",
       "      <th>gnr_Adventure</th>\n",
       "      <th>gnr_Comedy</th>\n",
       "      <th>gnr_Documentary</th>\n",
       "      <th>gnr_Drama</th>\n",
       "      <th>gnr_Horror</th>\n",
       "      <th>gnr_Sci-Fi</th>\n",
       "      <th>gnr_Thriller</th>\n",
       "      <th>original_language_en</th>\n",
       "      <th>original_language_hi</th>\n",
       "      <th>original_language_it</th>\n",
       "      <th>original_language_ja</th>\n",
       "      <th>userId</th>\n",
       "      <th>movieId</th>\n",
       "      <th>rating</th>\n",
       "      <th>timeyear</th>\n",
       "      <th>prediction</th>\n",
       "      <th>squared_error</th>\n",
       "    </tr>\n",
       "  </thead>\n",
       "  <tbody>\n",
       "    <tr>\n",
       "      <th>0</th>\n",
       "      <td>4000000.0</td>\n",
       "      <td>6.213</td>\n",
       "      <td>3.50</td>\n",
       "      <td>29</td>\n",
       "      <td>1995</td>\n",
       "      <td>112.0</td>\n",
       "      <td>3.0</td>\n",
       "      <td>2626</td>\n",
       "      <td>0</td>\n",
       "      <td>0</td>\n",
       "      <td>1</td>\n",
       "      <td>0</td>\n",
       "      <td>1</td>\n",
       "      <td>0</td>\n",
       "      <td>0</td>\n",
       "      <td>0</td>\n",
       "      <td>1</td>\n",
       "      <td>0</td>\n",
       "      <td>0</td>\n",
       "      <td>0</td>\n",
       "      <td>132310</td>\n",
       "      <td>148</td>\n",
       "      <td>3.0</td>\n",
       "      <td>1996</td>\n",
       "      <td>2.068438</td>\n",
       "      <td>0.867807</td>\n",
       "    </tr>\n",
       "    <tr>\n",
       "      <th>1</th>\n",
       "      <td>4000000.0</td>\n",
       "      <td>6.213</td>\n",
       "      <td>3.50</td>\n",
       "      <td>29</td>\n",
       "      <td>1995</td>\n",
       "      <td>112.0</td>\n",
       "      <td>3.0</td>\n",
       "      <td>2626</td>\n",
       "      <td>0</td>\n",
       "      <td>0</td>\n",
       "      <td>1</td>\n",
       "      <td>0</td>\n",
       "      <td>1</td>\n",
       "      <td>0</td>\n",
       "      <td>0</td>\n",
       "      <td>0</td>\n",
       "      <td>1</td>\n",
       "      <td>0</td>\n",
       "      <td>0</td>\n",
       "      <td>0</td>\n",
       "      <td>48928</td>\n",
       "      <td>148</td>\n",
       "      <td>2.0</td>\n",
       "      <td>2000</td>\n",
       "      <td>1.424011</td>\n",
       "      <td>0.331764</td>\n",
       "    </tr>\n",
       "    <tr>\n",
       "      <th>2</th>\n",
       "      <td>4000000.0</td>\n",
       "      <td>6.213</td>\n",
       "      <td>3.50</td>\n",
       "      <td>29</td>\n",
       "      <td>1995</td>\n",
       "      <td>112.0</td>\n",
       "      <td>3.0</td>\n",
       "      <td>2626</td>\n",
       "      <td>0</td>\n",
       "      <td>0</td>\n",
       "      <td>1</td>\n",
       "      <td>0</td>\n",
       "      <td>1</td>\n",
       "      <td>0</td>\n",
       "      <td>0</td>\n",
       "      <td>0</td>\n",
       "      <td>1</td>\n",
       "      <td>0</td>\n",
       "      <td>0</td>\n",
       "      <td>0</td>\n",
       "      <td>107249</td>\n",
       "      <td>148</td>\n",
       "      <td>4.0</td>\n",
       "      <td>2001</td>\n",
       "      <td>2.133359</td>\n",
       "      <td>3.484349</td>\n",
       "    </tr>\n",
       "    <tr>\n",
       "      <th>3</th>\n",
       "      <td>25000000.0</td>\n",
       "      <td>10.682</td>\n",
       "      <td>3.55</td>\n",
       "      <td>697</td>\n",
       "      <td>1994</td>\n",
       "      <td>111.0</td>\n",
       "      <td>3.6</td>\n",
       "      <td>77498</td>\n",
       "      <td>0</td>\n",
       "      <td>0</td>\n",
       "      <td>1</td>\n",
       "      <td>0</td>\n",
       "      <td>1</td>\n",
       "      <td>0</td>\n",
       "      <td>0</td>\n",
       "      <td>0</td>\n",
       "      <td>1</td>\n",
       "      <td>0</td>\n",
       "      <td>0</td>\n",
       "      <td>0</td>\n",
       "      <td>62935</td>\n",
       "      <td>471</td>\n",
       "      <td>4.0</td>\n",
       "      <td>2004</td>\n",
       "      <td>3.480148</td>\n",
       "      <td>0.270246</td>\n",
       "    </tr>\n",
       "    <tr>\n",
       "      <th>4</th>\n",
       "      <td>25000000.0</td>\n",
       "      <td>10.682</td>\n",
       "      <td>3.55</td>\n",
       "      <td>697</td>\n",
       "      <td>1994</td>\n",
       "      <td>111.0</td>\n",
       "      <td>3.6</td>\n",
       "      <td>77498</td>\n",
       "      <td>0</td>\n",
       "      <td>0</td>\n",
       "      <td>1</td>\n",
       "      <td>0</td>\n",
       "      <td>1</td>\n",
       "      <td>0</td>\n",
       "      <td>0</td>\n",
       "      <td>0</td>\n",
       "      <td>1</td>\n",
       "      <td>0</td>\n",
       "      <td>0</td>\n",
       "      <td>0</td>\n",
       "      <td>112101</td>\n",
       "      <td>471</td>\n",
       "      <td>2.0</td>\n",
       "      <td>1999</td>\n",
       "      <td>3.414843</td>\n",
       "      <td>2.001780</td>\n",
       "    </tr>\n",
       "  </tbody>\n",
       "</table>\n",
       "</div>"
      ],
      "text/plain": [
       "       budget  popularity  vote_average  vote_count  startYear  \\\n",
       "0   4000000.0       6.213          3.50          29       1995   \n",
       "1   4000000.0       6.213          3.50          29       1995   \n",
       "2   4000000.0       6.213          3.50          29       1995   \n",
       "3  25000000.0      10.682          3.55         697       1994   \n",
       "4  25000000.0      10.682          3.55         697       1994   \n",
       "\n",
       "   runtimeMinutes  averageRating  numVotes  gnr_Action  gnr_Adventure  \\\n",
       "0           112.0            3.0      2626           0              0   \n",
       "1           112.0            3.0      2626           0              0   \n",
       "2           112.0            3.0      2626           0              0   \n",
       "3           111.0            3.6     77498           0              0   \n",
       "4           111.0            3.6     77498           0              0   \n",
       "\n",
       "   gnr_Comedy  gnr_Documentary  gnr_Drama  gnr_Horror  gnr_Sci-Fi  \\\n",
       "0           1                0          1           0           0   \n",
       "1           1                0          1           0           0   \n",
       "2           1                0          1           0           0   \n",
       "3           1                0          1           0           0   \n",
       "4           1                0          1           0           0   \n",
       "\n",
       "   gnr_Thriller  original_language_en  original_language_hi  \\\n",
       "0             0                     1                     0   \n",
       "1             0                     1                     0   \n",
       "2             0                     1                     0   \n",
       "3             0                     1                     0   \n",
       "4             0                     1                     0   \n",
       "\n",
       "   original_language_it  original_language_ja  userId  movieId  rating  \\\n",
       "0                     0                     0  132310      148     3.0   \n",
       "1                     0                     0   48928      148     2.0   \n",
       "2                     0                     0  107249      148     4.0   \n",
       "3                     0                     0   62935      471     4.0   \n",
       "4                     0                     0  112101      471     2.0   \n",
       "\n",
       "   timeyear  prediction  squared_error  \n",
       "0      1996    2.068438       0.867807  \n",
       "1      2000    1.424011       0.331764  \n",
       "2      2001    2.133359       3.484349  \n",
       "3      2004    3.480148       0.270246  \n",
       "4      1999    3.414843       2.001780  "
      ]
     },
     "execution_count": 56,
     "metadata": {},
     "output_type": "execute_result"
    }
   ],
   "source": [
    "predictions_df.head()"
   ]
  },
  {
   "cell_type": "code",
   "execution_count": 57,
   "id": "innovative-investigator",
   "metadata": {
    "ExecuteTime": {
     "end_time": "2021-05-06T01:24:44.623839Z",
     "start_time": "2021-05-06T01:24:44.231592Z"
    }
   },
   "outputs": [
    {
     "data": {
      "image/png": "[encoded data removed]",
      "text/plain": [
       "<Figure size 432x288 with 1 Axes>"
      ]
     },
     "metadata": {
      "needs_background": "light"
     },
     "output_type": "display_data"
    }
   ],
   "source": [
    "\n",
    "# Create array of predictions for violinplot\n",
    "data = [predictions_df['prediction'][predictions_df['rating'] == rating].values for rating in range(1, 6)]\n",
    "plt.violinplot(data, range(1,6), showmeans=True)\n",
    "plt.xlabel('True Ratings')\n",
    "plt.ylabel('Predicted Ratings')\n",
    "plt.title('True vs. ALS Recommender Predicted Ratings')\n",
    "plt.show()"
   ]
  },
  {
   "cell_type": "markdown",
   "id": "white-turning",
   "metadata": {},
   "source": [
    "#### Additional Content"
   ]
  },
  {
   "cell_type": "code",
   "execution_count": 58,
   "id": "artistic-shopping",
   "metadata": {
    "ExecuteTime": {
     "end_time": "2021-05-06T01:24:44.630981Z",
     "start_time": "2021-05-06T01:24:44.625940Z"
    }
   },
   "outputs": [],
   "source": [
    "def rank_score(df):\n",
    "    df2 = df.copy()\n",
    "    df2['rank'] = df2.groupby(\"userId\")[\"prediction\"].rank(\"dense\", ascending=False, na_option='top') -1\n",
    "    df2 = df2.join(df2.groupby(\"userId\")[\"rank\"].max(), on='userId', rsuffix='_max')\n",
    "    df2['pct_rank'] = df2['rank']/df2['rank_max']\n",
    "    \n",
    "    return np.sum(df2['interactions']*df2['pct_rank'])/np.sum(df2['interactions'])\n",
    "    "
   ]
  },
  {
   "cell_type": "code",
   "execution_count": 59,
   "id": "dental-corpus",
   "metadata": {
    "ExecuteTime": {
     "end_time": "2021-05-06T01:24:44.678873Z",
     "start_time": "2021-05-06T01:24:44.633632Z"
    }
   },
   "outputs": [],
   "source": [
    "implicit_predictions = recommender_imp.transform(test)"
   ]
  },
  {
   "cell_type": "code",
   "execution_count": 60,
   "id": "headed-harmony",
   "metadata": {
    "ExecuteTime": {
     "end_time": "2021-05-06T01:25:02.608978Z",
     "start_time": "2021-05-06T01:24:44.711178Z"
    }
   },
   "outputs": [],
   "source": [
    "implicit_predictions_df = implicit_predictions.toPandas()"
   ]
  },
  {
   "cell_type": "code",
   "execution_count": 61,
   "id": "vital-farmer",
   "metadata": {
    "ExecuteTime": {
     "end_time": "2021-05-06T01:25:02.647669Z",
     "start_time": "2021-05-06T01:25:02.611057Z"
    }
   },
   "outputs": [
    {
     "name": "stdout",
     "output_type": "stream",
     "text": [
      "<class 'pandas.core.frame.DataFrame'>\n",
      "RangeIndex: 200075 entries, 0 to 200074\n",
      "Data columns (total 25 columns):\n",
      " #   Column                Non-Null Count   Dtype  \n",
      "---  ------                --------------   -----  \n",
      " 0   budget                200075 non-null  float64\n",
      " 1   popularity            200075 non-null  float64\n",
      " 2   vote_average          200075 non-null  float64\n",
      " 3   vote_count            200075 non-null  int64  \n",
      " 4   startYear             200075 non-null  int64  \n",
      " 5   runtimeMinutes        200075 non-null  float64\n",
      " 6   averageRating         200075 non-null  float64\n",
      " 7   numVotes              200075 non-null  int64  \n",
      " 8   gnr_Action            200075 non-null  int64  \n",
      " 9   gnr_Adventure         200075 non-null  int64  \n",
      " 10  gnr_Comedy            200075 non-null  int64  \n",
      " 11  gnr_Documentary       200075 non-null  int64  \n",
      " 12  gnr_Drama             200075 non-null  int64  \n",
      " 13  gnr_Horror            200075 non-null  int64  \n",
      " 14  gnr_Sci-Fi            200075 non-null  int64  \n",
      " 15  gnr_Thriller          200075 non-null  int64  \n",
      " 16  original_language_en  200075 non-null  int64  \n",
      " 17  original_language_hi  200075 non-null  int64  \n",
      " 18  original_language_it  200075 non-null  int64  \n",
      " 19  original_language_ja  200075 non-null  int64  \n",
      " 20  userId                200075 non-null  int64  \n",
      " 21  movieId               200075 non-null  int64  \n",
      " 22  rating                200075 non-null  float64\n",
      " 23  timeyear              200075 non-null  int64  \n",
      " 24  prediction            190743 non-null  float32\n",
      "dtypes: float32(1), float64(6), int64(18)\n",
      "memory usage: 37.4 MB\n"
     ]
    }
   ],
   "source": [
    "implicit_predictions_df.info()"
   ]
  },
  {
   "cell_type": "code",
   "execution_count": 62,
   "id": "polished-litigation",
   "metadata": {
    "ExecuteTime": {
     "end_time": "2021-05-06T01:25:02.767404Z",
     "start_time": "2021-05-06T01:25:02.651656Z"
    }
   },
   "outputs": [],
   "source": [
    "implicit_predictions_df = implicit_predictions_df.fillna(0)"
   ]
  },
  {
   "cell_type": "code",
   "execution_count": 63,
   "id": "swedish-uncertainty",
   "metadata": {
    "ExecuteTime": {
     "end_time": "2021-05-06T01:25:02.806442Z",
     "start_time": "2021-05-06T01:25:02.773534Z"
    }
   },
   "outputs": [
    {
     "data": {
      "text/html": [
       "<div>\n",
       "<style scoped>\n",
       "    .dataframe tbody tr th:only-of-type {\n",
       "        vertical-align: middle;\n",
       "    }\n",
       "\n",
       "    .dataframe tbody tr th {\n",
       "        vertical-align: top;\n",
       "    }\n",
       "\n",
       "    .dataframe thead th {\n",
       "        text-align: right;\n",
       "    }\n",
       "</style>\n",
       "<table border=\"1\" class=\"dataframe\">\n",
       "  <thead>\n",
       "    <tr style=\"text-align: right;\">\n",
       "      <th></th>\n",
       "      <th>budget</th>\n",
       "      <th>popularity</th>\n",
       "      <th>vote_average</th>\n",
       "      <th>vote_count</th>\n",
       "      <th>startYear</th>\n",
       "      <th>runtimeMinutes</th>\n",
       "      <th>averageRating</th>\n",
       "      <th>numVotes</th>\n",
       "      <th>gnr_Action</th>\n",
       "      <th>gnr_Adventure</th>\n",
       "      <th>gnr_Comedy</th>\n",
       "      <th>gnr_Documentary</th>\n",
       "      <th>gnr_Drama</th>\n",
       "      <th>gnr_Horror</th>\n",
       "      <th>gnr_Sci-Fi</th>\n",
       "      <th>gnr_Thriller</th>\n",
       "      <th>original_language_en</th>\n",
       "      <th>original_language_hi</th>\n",
       "      <th>original_language_it</th>\n",
       "      <th>original_language_ja</th>\n",
       "      <th>userId</th>\n",
       "      <th>movieId</th>\n",
       "      <th>rating</th>\n",
       "      <th>timeyear</th>\n",
       "      <th>prediction</th>\n",
       "    </tr>\n",
       "  </thead>\n",
       "  <tbody>\n",
       "    <tr>\n",
       "      <th>0</th>\n",
       "      <td>4000000.0</td>\n",
       "      <td>6.213</td>\n",
       "      <td>3.50</td>\n",
       "      <td>29</td>\n",
       "      <td>1995</td>\n",
       "      <td>112.0</td>\n",
       "      <td>3.00</td>\n",
       "      <td>2626</td>\n",
       "      <td>0</td>\n",
       "      <td>0</td>\n",
       "      <td>1</td>\n",
       "      <td>0</td>\n",
       "      <td>1</td>\n",
       "      <td>0</td>\n",
       "      <td>0</td>\n",
       "      <td>0</td>\n",
       "      <td>1</td>\n",
       "      <td>0</td>\n",
       "      <td>0</td>\n",
       "      <td>0</td>\n",
       "      <td>132310</td>\n",
       "      <td>148</td>\n",
       "      <td>3.0</td>\n",
       "      <td>1996</td>\n",
       "      <td>0.000068</td>\n",
       "    </tr>\n",
       "    <tr>\n",
       "      <th>1</th>\n",
       "      <td>4000000.0</td>\n",
       "      <td>6.213</td>\n",
       "      <td>3.50</td>\n",
       "      <td>29</td>\n",
       "      <td>1995</td>\n",
       "      <td>112.0</td>\n",
       "      <td>3.00</td>\n",
       "      <td>2626</td>\n",
       "      <td>0</td>\n",
       "      <td>0</td>\n",
       "      <td>1</td>\n",
       "      <td>0</td>\n",
       "      <td>1</td>\n",
       "      <td>0</td>\n",
       "      <td>0</td>\n",
       "      <td>0</td>\n",
       "      <td>1</td>\n",
       "      <td>0</td>\n",
       "      <td>0</td>\n",
       "      <td>0</td>\n",
       "      <td>48928</td>\n",
       "      <td>148</td>\n",
       "      <td>2.0</td>\n",
       "      <td>2000</td>\n",
       "      <td>0.000890</td>\n",
       "    </tr>\n",
       "    <tr>\n",
       "      <th>2</th>\n",
       "      <td>4000000.0</td>\n",
       "      <td>6.213</td>\n",
       "      <td>3.50</td>\n",
       "      <td>29</td>\n",
       "      <td>1995</td>\n",
       "      <td>112.0</td>\n",
       "      <td>3.00</td>\n",
       "      <td>2626</td>\n",
       "      <td>0</td>\n",
       "      <td>0</td>\n",
       "      <td>1</td>\n",
       "      <td>0</td>\n",
       "      <td>1</td>\n",
       "      <td>0</td>\n",
       "      <td>0</td>\n",
       "      <td>0</td>\n",
       "      <td>1</td>\n",
       "      <td>0</td>\n",
       "      <td>0</td>\n",
       "      <td>0</td>\n",
       "      <td>107249</td>\n",
       "      <td>148</td>\n",
       "      <td>4.0</td>\n",
       "      <td>2001</td>\n",
       "      <td>0.000569</td>\n",
       "    </tr>\n",
       "    <tr>\n",
       "      <th>3</th>\n",
       "      <td>25000000.0</td>\n",
       "      <td>10.682</td>\n",
       "      <td>3.55</td>\n",
       "      <td>697</td>\n",
       "      <td>1994</td>\n",
       "      <td>111.0</td>\n",
       "      <td>3.60</td>\n",
       "      <td>77498</td>\n",
       "      <td>0</td>\n",
       "      <td>0</td>\n",
       "      <td>1</td>\n",
       "      <td>0</td>\n",
       "      <td>1</td>\n",
       "      <td>0</td>\n",
       "      <td>0</td>\n",
       "      <td>0</td>\n",
       "      <td>1</td>\n",
       "      <td>0</td>\n",
       "      <td>0</td>\n",
       "      <td>0</td>\n",
       "      <td>62935</td>\n",
       "      <td>471</td>\n",
       "      <td>4.0</td>\n",
       "      <td>2004</td>\n",
       "      <td>0.064007</td>\n",
       "    </tr>\n",
       "    <tr>\n",
       "      <th>4</th>\n",
       "      <td>25000000.0</td>\n",
       "      <td>10.682</td>\n",
       "      <td>3.55</td>\n",
       "      <td>697</td>\n",
       "      <td>1994</td>\n",
       "      <td>111.0</td>\n",
       "      <td>3.60</td>\n",
       "      <td>77498</td>\n",
       "      <td>0</td>\n",
       "      <td>0</td>\n",
       "      <td>1</td>\n",
       "      <td>0</td>\n",
       "      <td>1</td>\n",
       "      <td>0</td>\n",
       "      <td>0</td>\n",
       "      <td>0</td>\n",
       "      <td>1</td>\n",
       "      <td>0</td>\n",
       "      <td>0</td>\n",
       "      <td>0</td>\n",
       "      <td>112101</td>\n",
       "      <td>471</td>\n",
       "      <td>2.0</td>\n",
       "      <td>1999</td>\n",
       "      <td>0.091716</td>\n",
       "    </tr>\n",
       "    <tr>\n",
       "      <th>...</th>\n",
       "      <td>...</td>\n",
       "      <td>...</td>\n",
       "      <td>...</td>\n",
       "      <td>...</td>\n",
       "      <td>...</td>\n",
       "      <td>...</td>\n",
       "      <td>...</td>\n",
       "      <td>...</td>\n",
       "      <td>...</td>\n",
       "      <td>...</td>\n",
       "      <td>...</td>\n",
       "      <td>...</td>\n",
       "      <td>...</td>\n",
       "      <td>...</td>\n",
       "      <td>...</td>\n",
       "      <td>...</td>\n",
       "      <td>...</td>\n",
       "      <td>...</td>\n",
       "      <td>...</td>\n",
       "      <td>...</td>\n",
       "      <td>...</td>\n",
       "      <td>...</td>\n",
       "      <td>...</td>\n",
       "      <td>...</td>\n",
       "      <td>...</td>\n",
       "    </tr>\n",
       "    <tr>\n",
       "      <th>200070</th>\n",
       "      <td>35000000.0</td>\n",
       "      <td>13.851</td>\n",
       "      <td>3.55</td>\n",
       "      <td>1986</td>\n",
       "      <td>2015</td>\n",
       "      <td>123.0</td>\n",
       "      <td>3.60</td>\n",
       "      <td>88268</td>\n",
       "      <td>0</td>\n",
       "      <td>0</td>\n",
       "      <td>0</td>\n",
       "      <td>0</td>\n",
       "      <td>1</td>\n",
       "      <td>0</td>\n",
       "      <td>0</td>\n",
       "      <td>0</td>\n",
       "      <td>1</td>\n",
       "      <td>0</td>\n",
       "      <td>0</td>\n",
       "      <td>0</td>\n",
       "      <td>98931</td>\n",
       "      <td>145839</td>\n",
       "      <td>5.0</td>\n",
       "      <td>2019</td>\n",
       "      <td>0.002551</td>\n",
       "    </tr>\n",
       "    <tr>\n",
       "      <th>200071</th>\n",
       "      <td>22000000.0</td>\n",
       "      <td>17.941</td>\n",
       "      <td>3.15</td>\n",
       "      <td>1642</td>\n",
       "      <td>2015</td>\n",
       "      <td>101.0</td>\n",
       "      <td>3.20</td>\n",
       "      <td>57096</td>\n",
       "      <td>0</td>\n",
       "      <td>0</td>\n",
       "      <td>0</td>\n",
       "      <td>0</td>\n",
       "      <td>1</td>\n",
       "      <td>0</td>\n",
       "      <td>0</td>\n",
       "      <td>0</td>\n",
       "      <td>1</td>\n",
       "      <td>0</td>\n",
       "      <td>0</td>\n",
       "      <td>0</td>\n",
       "      <td>115907</td>\n",
       "      <td>146688</td>\n",
       "      <td>2.5</td>\n",
       "      <td>2016</td>\n",
       "      <td>0.000739</td>\n",
       "    </tr>\n",
       "    <tr>\n",
       "      <th>200072</th>\n",
       "      <td>24000000.0</td>\n",
       "      <td>13.542</td>\n",
       "      <td>3.70</td>\n",
       "      <td>470</td>\n",
       "      <td>2017</td>\n",
       "      <td>136.0</td>\n",
       "      <td>3.60</td>\n",
       "      <td>16210</td>\n",
       "      <td>0</td>\n",
       "      <td>0</td>\n",
       "      <td>0</td>\n",
       "      <td>0</td>\n",
       "      <td>1</td>\n",
       "      <td>0</td>\n",
       "      <td>0</td>\n",
       "      <td>0</td>\n",
       "      <td>1</td>\n",
       "      <td>0</td>\n",
       "      <td>0</td>\n",
       "      <td>0</td>\n",
       "      <td>19718</td>\n",
       "      <td>172667</td>\n",
       "      <td>4.0</td>\n",
       "      <td>2017</td>\n",
       "      <td>0.000273</td>\n",
       "    </tr>\n",
       "    <tr>\n",
       "      <th>200073</th>\n",
       "      <td>22000000.0</td>\n",
       "      <td>0.685</td>\n",
       "      <td>3.35</td>\n",
       "      <td>10</td>\n",
       "      <td>1958</td>\n",
       "      <td>66.0</td>\n",
       "      <td>3.45</td>\n",
       "      <td>531</td>\n",
       "      <td>0</td>\n",
       "      <td>0</td>\n",
       "      <td>0</td>\n",
       "      <td>0</td>\n",
       "      <td>1</td>\n",
       "      <td>0</td>\n",
       "      <td>0</td>\n",
       "      <td>0</td>\n",
       "      <td>0</td>\n",
       "      <td>0</td>\n",
       "      <td>0</td>\n",
       "      <td>0</td>\n",
       "      <td>72315</td>\n",
       "      <td>173465</td>\n",
       "      <td>3.5</td>\n",
       "      <td>2017</td>\n",
       "      <td>0.000000</td>\n",
       "    </tr>\n",
       "    <tr>\n",
       "      <th>200074</th>\n",
       "      <td>9000000.0</td>\n",
       "      <td>10.664</td>\n",
       "      <td>3.00</td>\n",
       "      <td>489</td>\n",
       "      <td>2018</td>\n",
       "      <td>121.0</td>\n",
       "      <td>3.10</td>\n",
       "      <td>25896</td>\n",
       "      <td>1</td>\n",
       "      <td>0</td>\n",
       "      <td>0</td>\n",
       "      <td>0</td>\n",
       "      <td>1</td>\n",
       "      <td>0</td>\n",
       "      <td>0</td>\n",
       "      <td>0</td>\n",
       "      <td>1</td>\n",
       "      <td>0</td>\n",
       "      <td>0</td>\n",
       "      <td>0</td>\n",
       "      <td>81904</td>\n",
       "      <td>194959</td>\n",
       "      <td>3.5</td>\n",
       "      <td>2019</td>\n",
       "      <td>0.000000</td>\n",
       "    </tr>\n",
       "  </tbody>\n",
       "</table>\n",
       "<p>200075 rows × 25 columns</p>\n",
       "</div>"
      ],
      "text/plain": [
       "            budget  popularity  vote_average  vote_count  startYear  \\\n",
       "0        4000000.0       6.213          3.50          29       1995   \n",
       "1        4000000.0       6.213          3.50          29       1995   \n",
       "2        4000000.0       6.213          3.50          29       1995   \n",
       "3       25000000.0      10.682          3.55         697       1994   \n",
       "4       25000000.0      10.682          3.55         697       1994   \n",
       "...            ...         ...           ...         ...        ...   \n",
       "200070  35000000.0      13.851          3.55        1986       2015   \n",
       "200071  22000000.0      17.941          3.15        1642       2015   \n",
       "200072  24000000.0      13.542          3.70         470       2017   \n",
       "200073  22000000.0       0.685          3.35          10       1958   \n",
       "200074   9000000.0      10.664          3.00         489       2018   \n",
       "\n",
       "        runtimeMinutes  averageRating  numVotes  gnr_Action  gnr_Adventure  \\\n",
       "0                112.0           3.00      2626           0              0   \n",
       "1                112.0           3.00      2626           0              0   \n",
       "2                112.0           3.00      2626           0              0   \n",
       "3                111.0           3.60     77498           0              0   \n",
       "4                111.0           3.60     77498           0              0   \n",
       "...                ...            ...       ...         ...            ...   \n",
       "200070           123.0           3.60     88268           0              0   \n",
       "200071           101.0           3.20     57096           0              0   \n",
       "200072           136.0           3.60     16210           0              0   \n",
       "200073            66.0           3.45       531           0              0   \n",
       "200074           121.0           3.10     25896           1              0   \n",
       "\n",
       "        gnr_Comedy  gnr_Documentary  gnr_Drama  gnr_Horror  gnr_Sci-Fi  \\\n",
       "0                1                0          1           0           0   \n",
       "1                1                0          1           0           0   \n",
       "2                1                0          1           0           0   \n",
       "3                1                0          1           0           0   \n",
       "4                1                0          1           0           0   \n",
       "...            ...              ...        ...         ...         ...   \n",
       "200070           0                0          1           0           0   \n",
       "200071           0                0          1           0           0   \n",
       "200072           0                0          1           0           0   \n",
       "200073           0                0          1           0           0   \n",
       "200074           0                0          1           0           0   \n",
       "\n",
       "        gnr_Thriller  original_language_en  original_language_hi  \\\n",
       "0                  0                     1                     0   \n",
       "1                  0                     1                     0   \n",
       "2                  0                     1                     0   \n",
       "3                  0                     1                     0   \n",
       "4                  0                     1                     0   \n",
       "...              ...                   ...                   ...   \n",
       "200070             0                     1                     0   \n",
       "200071             0                     1                     0   \n",
       "200072             0                     1                     0   \n",
       "200073             0                     0                     0   \n",
       "200074             0                     1                     0   \n",
       "\n",
       "        original_language_it  original_language_ja  userId  movieId  rating  \\\n",
       "0                          0                     0  132310      148     3.0   \n",
       "1                          0                     0   48928      148     2.0   \n",
       "2                          0                     0  107249      148     4.0   \n",
       "3                          0                     0   62935      471     4.0   \n",
       "4                          0                     0  112101      471     2.0   \n",
       "...                      ...                   ...     ...      ...     ...   \n",
       "200070                     0                     0   98931   145839     5.0   \n",
       "200071                     0                     0  115907   146688     2.5   \n",
       "200072                     0                     0   19718   172667     4.0   \n",
       "200073                     0                     0   72315   173465     3.5   \n",
       "200074                     0                     0   81904   194959     3.5   \n",
       "\n",
       "        timeyear  prediction  \n",
       "0           1996    0.000068  \n",
       "1           2000    0.000890  \n",
       "2           2001    0.000569  \n",
       "3           2004    0.064007  \n",
       "4           1999    0.091716  \n",
       "...          ...         ...  \n",
       "200070      2019    0.002551  \n",
       "200071      2016    0.000739  \n",
       "200072      2017    0.000273  \n",
       "200073      2017    0.000000  \n",
       "200074      2019    0.000000  \n",
       "\n",
       "[200075 rows x 25 columns]"
      ]
     },
     "execution_count": 63,
     "metadata": {},
     "output_type": "execute_result"
    }
   ],
   "source": [
    "implicit_predictions_df"
   ]
  },
  {
   "cell_type": "code",
   "execution_count": 64,
   "id": "allied-seven",
   "metadata": {
    "ExecuteTime": {
     "end_time": "2021-05-06T01:25:02.821562Z",
     "start_time": "2021-05-06T01:25:02.809461Z"
    }
   },
   "outputs": [],
   "source": [
    "# Rename column 'rating' to 'interactions' as that is what we are looking for.\n",
    "implicit_predictions_df.rename(columns={'rating':'interactions'}, inplace=True)"
   ]
  },
  {
   "cell_type": "code",
   "execution_count": 65,
   "id": "communist-refrigerator",
   "metadata": {
    "ExecuteTime": {
     "end_time": "2021-05-06T01:25:02.857911Z",
     "start_time": "2021-05-06T01:25:02.827916Z"
    }
   },
   "outputs": [
    {
     "data": {
      "text/html": [
       "<div>\n",
       "<style scoped>\n",
       "    .dataframe tbody tr th:only-of-type {\n",
       "        vertical-align: middle;\n",
       "    }\n",
       "\n",
       "    .dataframe tbody tr th {\n",
       "        vertical-align: top;\n",
       "    }\n",
       "\n",
       "    .dataframe thead th {\n",
       "        text-align: right;\n",
       "    }\n",
       "</style>\n",
       "<table border=\"1\" class=\"dataframe\">\n",
       "  <thead>\n",
       "    <tr style=\"text-align: right;\">\n",
       "      <th></th>\n",
       "      <th>budget</th>\n",
       "      <th>popularity</th>\n",
       "      <th>vote_average</th>\n",
       "      <th>vote_count</th>\n",
       "      <th>startYear</th>\n",
       "      <th>runtimeMinutes</th>\n",
       "      <th>averageRating</th>\n",
       "      <th>numVotes</th>\n",
       "      <th>gnr_Action</th>\n",
       "      <th>gnr_Adventure</th>\n",
       "      <th>gnr_Comedy</th>\n",
       "      <th>gnr_Documentary</th>\n",
       "      <th>gnr_Drama</th>\n",
       "      <th>gnr_Horror</th>\n",
       "      <th>gnr_Sci-Fi</th>\n",
       "      <th>gnr_Thriller</th>\n",
       "      <th>original_language_en</th>\n",
       "      <th>original_language_hi</th>\n",
       "      <th>original_language_it</th>\n",
       "      <th>original_language_ja</th>\n",
       "      <th>userId</th>\n",
       "      <th>movieId</th>\n",
       "      <th>interactions</th>\n",
       "      <th>timeyear</th>\n",
       "      <th>prediction</th>\n",
       "    </tr>\n",
       "  </thead>\n",
       "  <tbody>\n",
       "    <tr>\n",
       "      <th>0</th>\n",
       "      <td>4000000.0</td>\n",
       "      <td>6.213</td>\n",
       "      <td>3.50</td>\n",
       "      <td>29</td>\n",
       "      <td>1995</td>\n",
       "      <td>112.0</td>\n",
       "      <td>3.00</td>\n",
       "      <td>2626</td>\n",
       "      <td>0</td>\n",
       "      <td>0</td>\n",
       "      <td>1</td>\n",
       "      <td>0</td>\n",
       "      <td>1</td>\n",
       "      <td>0</td>\n",
       "      <td>0</td>\n",
       "      <td>0</td>\n",
       "      <td>1</td>\n",
       "      <td>0</td>\n",
       "      <td>0</td>\n",
       "      <td>0</td>\n",
       "      <td>132310</td>\n",
       "      <td>148</td>\n",
       "      <td>3.0</td>\n",
       "      <td>1996</td>\n",
       "      <td>0.000068</td>\n",
       "    </tr>\n",
       "    <tr>\n",
       "      <th>1</th>\n",
       "      <td>4000000.0</td>\n",
       "      <td>6.213</td>\n",
       "      <td>3.50</td>\n",
       "      <td>29</td>\n",
       "      <td>1995</td>\n",
       "      <td>112.0</td>\n",
       "      <td>3.00</td>\n",
       "      <td>2626</td>\n",
       "      <td>0</td>\n",
       "      <td>0</td>\n",
       "      <td>1</td>\n",
       "      <td>0</td>\n",
       "      <td>1</td>\n",
       "      <td>0</td>\n",
       "      <td>0</td>\n",
       "      <td>0</td>\n",
       "      <td>1</td>\n",
       "      <td>0</td>\n",
       "      <td>0</td>\n",
       "      <td>0</td>\n",
       "      <td>48928</td>\n",
       "      <td>148</td>\n",
       "      <td>2.0</td>\n",
       "      <td>2000</td>\n",
       "      <td>0.000890</td>\n",
       "    </tr>\n",
       "    <tr>\n",
       "      <th>2</th>\n",
       "      <td>4000000.0</td>\n",
       "      <td>6.213</td>\n",
       "      <td>3.50</td>\n",
       "      <td>29</td>\n",
       "      <td>1995</td>\n",
       "      <td>112.0</td>\n",
       "      <td>3.00</td>\n",
       "      <td>2626</td>\n",
       "      <td>0</td>\n",
       "      <td>0</td>\n",
       "      <td>1</td>\n",
       "      <td>0</td>\n",
       "      <td>1</td>\n",
       "      <td>0</td>\n",
       "      <td>0</td>\n",
       "      <td>0</td>\n",
       "      <td>1</td>\n",
       "      <td>0</td>\n",
       "      <td>0</td>\n",
       "      <td>0</td>\n",
       "      <td>107249</td>\n",
       "      <td>148</td>\n",
       "      <td>4.0</td>\n",
       "      <td>2001</td>\n",
       "      <td>0.000569</td>\n",
       "    </tr>\n",
       "    <tr>\n",
       "      <th>3</th>\n",
       "      <td>25000000.0</td>\n",
       "      <td>10.682</td>\n",
       "      <td>3.55</td>\n",
       "      <td>697</td>\n",
       "      <td>1994</td>\n",
       "      <td>111.0</td>\n",
       "      <td>3.60</td>\n",
       "      <td>77498</td>\n",
       "      <td>0</td>\n",
       "      <td>0</td>\n",
       "      <td>1</td>\n",
       "      <td>0</td>\n",
       "      <td>1</td>\n",
       "      <td>0</td>\n",
       "      <td>0</td>\n",
       "      <td>0</td>\n",
       "      <td>1</td>\n",
       "      <td>0</td>\n",
       "      <td>0</td>\n",
       "      <td>0</td>\n",
       "      <td>62935</td>\n",
       "      <td>471</td>\n",
       "      <td>4.0</td>\n",
       "      <td>2004</td>\n",
       "      <td>0.064007</td>\n",
       "    </tr>\n",
       "    <tr>\n",
       "      <th>4</th>\n",
       "      <td>25000000.0</td>\n",
       "      <td>10.682</td>\n",
       "      <td>3.55</td>\n",
       "      <td>697</td>\n",
       "      <td>1994</td>\n",
       "      <td>111.0</td>\n",
       "      <td>3.60</td>\n",
       "      <td>77498</td>\n",
       "      <td>0</td>\n",
       "      <td>0</td>\n",
       "      <td>1</td>\n",
       "      <td>0</td>\n",
       "      <td>1</td>\n",
       "      <td>0</td>\n",
       "      <td>0</td>\n",
       "      <td>0</td>\n",
       "      <td>1</td>\n",
       "      <td>0</td>\n",
       "      <td>0</td>\n",
       "      <td>0</td>\n",
       "      <td>112101</td>\n",
       "      <td>471</td>\n",
       "      <td>2.0</td>\n",
       "      <td>1999</td>\n",
       "      <td>0.091716</td>\n",
       "    </tr>\n",
       "    <tr>\n",
       "      <th>...</th>\n",
       "      <td>...</td>\n",
       "      <td>...</td>\n",
       "      <td>...</td>\n",
       "      <td>...</td>\n",
       "      <td>...</td>\n",
       "      <td>...</td>\n",
       "      <td>...</td>\n",
       "      <td>...</td>\n",
       "      <td>...</td>\n",
       "      <td>...</td>\n",
       "      <td>...</td>\n",
       "      <td>...</td>\n",
       "      <td>...</td>\n",
       "      <td>...</td>\n",
       "      <td>...</td>\n",
       "      <td>...</td>\n",
       "      <td>...</td>\n",
       "      <td>...</td>\n",
       "      <td>...</td>\n",
       "      <td>...</td>\n",
       "      <td>...</td>\n",
       "      <td>...</td>\n",
       "      <td>...</td>\n",
       "      <td>...</td>\n",
       "      <td>...</td>\n",
       "    </tr>\n",
       "    <tr>\n",
       "      <th>200070</th>\n",
       "      <td>35000000.0</td>\n",
       "      <td>13.851</td>\n",
       "      <td>3.55</td>\n",
       "      <td>1986</td>\n",
       "      <td>2015</td>\n",
       "      <td>123.0</td>\n",
       "      <td>3.60</td>\n",
       "      <td>88268</td>\n",
       "      <td>0</td>\n",
       "      <td>0</td>\n",
       "      <td>0</td>\n",
       "      <td>0</td>\n",
       "      <td>1</td>\n",
       "      <td>0</td>\n",
       "      <td>0</td>\n",
       "      <td>0</td>\n",
       "      <td>1</td>\n",
       "      <td>0</td>\n",
       "      <td>0</td>\n",
       "      <td>0</td>\n",
       "      <td>98931</td>\n",
       "      <td>145839</td>\n",
       "      <td>5.0</td>\n",
       "      <td>2019</td>\n",
       "      <td>0.002551</td>\n",
       "    </tr>\n",
       "    <tr>\n",
       "      <th>200071</th>\n",
       "      <td>22000000.0</td>\n",
       "      <td>17.941</td>\n",
       "      <td>3.15</td>\n",
       "      <td>1642</td>\n",
       "      <td>2015</td>\n",
       "      <td>101.0</td>\n",
       "      <td>3.20</td>\n",
       "      <td>57096</td>\n",
       "      <td>0</td>\n",
       "      <td>0</td>\n",
       "      <td>0</td>\n",
       "      <td>0</td>\n",
       "      <td>1</td>\n",
       "      <td>0</td>\n",
       "      <td>0</td>\n",
       "      <td>0</td>\n",
       "      <td>1</td>\n",
       "      <td>0</td>\n",
       "      <td>0</td>\n",
       "      <td>0</td>\n",
       "      <td>115907</td>\n",
       "      <td>146688</td>\n",
       "      <td>2.5</td>\n",
       "      <td>2016</td>\n",
       "      <td>0.000739</td>\n",
       "    </tr>\n",
       "    <tr>\n",
       "      <th>200072</th>\n",
       "      <td>24000000.0</td>\n",
       "      <td>13.542</td>\n",
       "      <td>3.70</td>\n",
       "      <td>470</td>\n",
       "      <td>2017</td>\n",
       "      <td>136.0</td>\n",
       "      <td>3.60</td>\n",
       "      <td>16210</td>\n",
       "      <td>0</td>\n",
       "      <td>0</td>\n",
       "      <td>0</td>\n",
       "      <td>0</td>\n",
       "      <td>1</td>\n",
       "      <td>0</td>\n",
       "      <td>0</td>\n",
       "      <td>0</td>\n",
       "      <td>1</td>\n",
       "      <td>0</td>\n",
       "      <td>0</td>\n",
       "      <td>0</td>\n",
       "      <td>19718</td>\n",
       "      <td>172667</td>\n",
       "      <td>4.0</td>\n",
       "      <td>2017</td>\n",
       "      <td>0.000273</td>\n",
       "    </tr>\n",
       "    <tr>\n",
       "      <th>200073</th>\n",
       "      <td>22000000.0</td>\n",
       "      <td>0.685</td>\n",
       "      <td>3.35</td>\n",
       "      <td>10</td>\n",
       "      <td>1958</td>\n",
       "      <td>66.0</td>\n",
       "      <td>3.45</td>\n",
       "      <td>531</td>\n",
       "      <td>0</td>\n",
       "      <td>0</td>\n",
       "      <td>0</td>\n",
       "      <td>0</td>\n",
       "      <td>1</td>\n",
       "      <td>0</td>\n",
       "      <td>0</td>\n",
       "      <td>0</td>\n",
       "      <td>0</td>\n",
       "      <td>0</td>\n",
       "      <td>0</td>\n",
       "      <td>0</td>\n",
       "      <td>72315</td>\n",
       "      <td>173465</td>\n",
       "      <td>3.5</td>\n",
       "      <td>2017</td>\n",
       "      <td>0.000000</td>\n",
       "    </tr>\n",
       "    <tr>\n",
       "      <th>200074</th>\n",
       "      <td>9000000.0</td>\n",
       "      <td>10.664</td>\n",
       "      <td>3.00</td>\n",
       "      <td>489</td>\n",
       "      <td>2018</td>\n",
       "      <td>121.0</td>\n",
       "      <td>3.10</td>\n",
       "      <td>25896</td>\n",
       "      <td>1</td>\n",
       "      <td>0</td>\n",
       "      <td>0</td>\n",
       "      <td>0</td>\n",
       "      <td>1</td>\n",
       "      <td>0</td>\n",
       "      <td>0</td>\n",
       "      <td>0</td>\n",
       "      <td>1</td>\n",
       "      <td>0</td>\n",
       "      <td>0</td>\n",
       "      <td>0</td>\n",
       "      <td>81904</td>\n",
       "      <td>194959</td>\n",
       "      <td>3.5</td>\n",
       "      <td>2019</td>\n",
       "      <td>0.000000</td>\n",
       "    </tr>\n",
       "  </tbody>\n",
       "</table>\n",
       "<p>200075 rows × 25 columns</p>\n",
       "</div>"
      ],
      "text/plain": [
       "            budget  popularity  vote_average  vote_count  startYear  \\\n",
       "0        4000000.0       6.213          3.50          29       1995   \n",
       "1        4000000.0       6.213          3.50          29       1995   \n",
       "2        4000000.0       6.213          3.50          29       1995   \n",
       "3       25000000.0      10.682          3.55         697       1994   \n",
       "4       25000000.0      10.682          3.55         697       1994   \n",
       "...            ...         ...           ...         ...        ...   \n",
       "200070  35000000.0      13.851          3.55        1986       2015   \n",
       "200071  22000000.0      17.941          3.15        1642       2015   \n",
       "200072  24000000.0      13.542          3.70         470       2017   \n",
       "200073  22000000.0       0.685          3.35          10       1958   \n",
       "200074   9000000.0      10.664          3.00         489       2018   \n",
       "\n",
       "        runtimeMinutes  averageRating  numVotes  gnr_Action  gnr_Adventure  \\\n",
       "0                112.0           3.00      2626           0              0   \n",
       "1                112.0           3.00      2626           0              0   \n",
       "2                112.0           3.00      2626           0              0   \n",
       "3                111.0           3.60     77498           0              0   \n",
       "4                111.0           3.60     77498           0              0   \n",
       "...                ...            ...       ...         ...            ...   \n",
       "200070           123.0           3.60     88268           0              0   \n",
       "200071           101.0           3.20     57096           0              0   \n",
       "200072           136.0           3.60     16210           0              0   \n",
       "200073            66.0           3.45       531           0              0   \n",
       "200074           121.0           3.10     25896           1              0   \n",
       "\n",
       "        gnr_Comedy  gnr_Documentary  gnr_Drama  gnr_Horror  gnr_Sci-Fi  \\\n",
       "0                1                0          1           0           0   \n",
       "1                1                0          1           0           0   \n",
       "2                1                0          1           0           0   \n",
       "3                1                0          1           0           0   \n",
       "4                1                0          1           0           0   \n",
       "...            ...              ...        ...         ...         ...   \n",
       "200070           0                0          1           0           0   \n",
       "200071           0                0          1           0           0   \n",
       "200072           0                0          1           0           0   \n",
       "200073           0                0          1           0           0   \n",
       "200074           0                0          1           0           0   \n",
       "\n",
       "        gnr_Thriller  original_language_en  original_language_hi  \\\n",
       "0                  0                     1                     0   \n",
       "1                  0                     1                     0   \n",
       "2                  0                     1                     0   \n",
       "3                  0                     1                     0   \n",
       "4                  0                     1                     0   \n",
       "...              ...                   ...                   ...   \n",
       "200070             0                     1                     0   \n",
       "200071             0                     1                     0   \n",
       "200072             0                     1                     0   \n",
       "200073             0                     0                     0   \n",
       "200074             0                     1                     0   \n",
       "\n",
       "        original_language_it  original_language_ja  userId  movieId  \\\n",
       "0                          0                     0  132310      148   \n",
       "1                          0                     0   48928      148   \n",
       "2                          0                     0  107249      148   \n",
       "3                          0                     0   62935      471   \n",
       "4                          0                     0  112101      471   \n",
       "...                      ...                   ...     ...      ...   \n",
       "200070                     0                     0   98931   145839   \n",
       "200071                     0                     0  115907   146688   \n",
       "200072                     0                     0   19718   172667   \n",
       "200073                     0                     0   72315   173465   \n",
       "200074                     0                     0   81904   194959   \n",
       "\n",
       "        interactions  timeyear  prediction  \n",
       "0                3.0      1996    0.000068  \n",
       "1                2.0      2000    0.000890  \n",
       "2                4.0      2001    0.000569  \n",
       "3                4.0      2004    0.064007  \n",
       "4                2.0      1999    0.091716  \n",
       "...              ...       ...         ...  \n",
       "200070           5.0      2019    0.002551  \n",
       "200071           2.5      2016    0.000739  \n",
       "200072           4.0      2017    0.000273  \n",
       "200073           3.5      2017    0.000000  \n",
       "200074           3.5      2019    0.000000  \n",
       "\n",
       "[200075 rows x 25 columns]"
      ]
     },
     "execution_count": 65,
     "metadata": {},
     "output_type": "execute_result"
    }
   ],
   "source": [
    "implicit_predictions_df"
   ]
  },
  {
   "cell_type": "code",
   "execution_count": 66,
   "id": "controlling-placement",
   "metadata": {
    "ExecuteTime": {
     "end_time": "2021-05-06T01:25:03.049546Z",
     "start_time": "2021-05-06T01:25:02.861039Z"
    }
   },
   "outputs": [
    {
     "data": {
      "text/plain": [
       "0.3810871592080551"
      ]
     },
     "execution_count": 66,
     "metadata": {},
     "output_type": "execute_result"
    }
   ],
   "source": [
    "rank_score(implicit_predictions_df)"
   ]
  },
  {
   "cell_type": "markdown",
   "id": "extreme-alberta",
   "metadata": {},
   "source": [
    "# User Account Management\n",
    "## Main Function Objects\n",
    "### Data written to file\n",
    "#### The user record\n",
    "This data is to be initialized by the user, with a minimum of a single item's key values. This creates a record to be saved to file. This record will be loaded in every time the user \"signs in\", which means loads their saved record. This record is instantiated into the class, where its methods enable adding/deleting items, and using the recommender to find more items.\n",
    "#### Record Item Searching and declaration\n",
    "Using a variety of searching (some based on regex), the user can locate items to add to their profile. At minimum is searching via title, but the more methods available the better. The user should be able to search by genre, name, and potentially weighted tags. This is to be created on availability of time. MVP: title\n",
    "#### Record completion and imputation\n",
    "As the user finds items through searching, ensure all fields saved to the user are functional.\n",
    "### Recommender\n",
    "#### Recommendation Search\n",
    "The recommender will be called upon the moment the user class executes the function method to load all its item data into the model. Thus the user will receive a prediction based on their total complete record.\n",
    "#### Archiving the result\n",
    "Present the user with the choice to save items which are recommended. These will be added to their profile, thus increasing their unique data.\n",
    "# User Interface and Display\n",
    "## Basic display linking\n",
    "For the next part of the project, the user should have comfortable display. Movie title and summary information is minimum, but additional data can be used to show descriptions, tags, keywords, and movie poster art. Many of these fields are often found NULL in their source data, and as such error handling and data processing must be present to ensure the query returns all required UI items without breaking functionality. In case of constraint toggle a simple mode to ensure verbose content can be skipped."
   ]
  },
  {
   "cell_type": "markdown",
   "id": "5866b9af",
   "metadata": {},
   "source": [
    "# User Recommendation Methods, Requirements, and Status\n",
    "## Blind user, no given choices\n",
    "Give them what is most popular. This requires no model.\n",
    "This was explored and confirmed.\n",
    "## Blind user, selects a genre\n",
    "Filter popular results by the genre. This requires no model.\n",
    "This was explored and confirmed.\n",
    "## Seeking user wanting to give genre mapping\n",
    "Give the user the weights, use these weights to find their closest internal user. This requires weights and models.\n",
    "\n",
    "## Seeking user with an account who gives a mapping to tilt results\n",
    "Multiply their given weight maps with their recorded recommendation data in file, if any. This requires weights, an account, and ratings in the model.\n",
    "## Collaborative recommendation\n",
    "Multiply the user's collected tastes with other users in the pool, use these weights to find the closest similar user. This requires multiple sets of weights.\n",
    "\n",
    "\n",
    "# User account storage\n",
    "## Structure\n",
    "User account ID, user weights. At the start their weights are default or what they give. After they rate movies their data will be built into the model, then their recommendation pipeline will change to prefer their selection. The user can use a genre map to influence their recommendations by a given weight should they explore a change in taste."
   ]
  },
  {
   "cell_type": "raw",
   "id": "144a23d3",
   "metadata": {},
   "source": [
    "# Notes for improvement\n",
    "https://www.datacamp.com/community/tutorials/recommender-systems-python\n",
    "WeightedRating(WR)=((v/(v+m))⋅R)+(m/(v+m)⋅C)\n",
    "\n",
    "WR =   v    *R     +     m    *C\n",
    "     -----              -----\n",
    "      v+m                v+m\n",
    "      \n",
    "v is the number of votes for the movie;\n",
    "\n",
    "m is the minimum votes required to be listed in the chart;\n",
    "\n",
    "R is the average rating of the movie;\n",
    "\n",
    "C is the mean vote across the whole report.\n",
    "\n",
    "This is done to avoid giving too much weight to movies that barely have any reviews and are rated highly.\n",
    "\n",
    "Formula adjustments:\n",
    "IMDb (source of averageRating and numVotes) seems to have no lower requirement theshold (lowest number of votes is only 5), so I'll intepret \"5\" as the requirement, thus m=5."
   ]
  },
  {
   "cell_type": "code",
   "execution_count": 67,
   "id": "3185efa0",
   "metadata": {
    "ExecuteTime": {
     "end_time": "2021-05-06T01:25:03.075227Z",
     "start_time": "2021-05-06T01:25:03.069207Z"
    }
   },
   "outputs": [
    {
     "data": {
      "text/plain": [
       "5"
      ]
     },
     "execution_count": 67,
     "metadata": {},
     "output_type": "execute_result"
    }
   ],
   "source": [
    "movie_df['numVotes'].min()"
   ]
  },
  {
   "cell_type": "code",
   "execution_count": 68,
   "id": "d4560a76",
   "metadata": {
    "ExecuteTime": {
     "end_time": "2021-05-06T01:25:03.172330Z",
     "start_time": "2021-05-06T01:25:03.090114Z"
    }
   },
   "outputs": [
    {
     "data": {
      "text/html": [
       "<div>\n",
       "<style scoped>\n",
       "    .dataframe tbody tr th:only-of-type {\n",
       "        vertical-align: middle;\n",
       "    }\n",
       "\n",
       "    .dataframe tbody tr th {\n",
       "        vertical-align: top;\n",
       "    }\n",
       "\n",
       "    .dataframe thead th {\n",
       "        text-align: right;\n",
       "    }\n",
       "</style>\n",
       "<table border=\"1\" class=\"dataframe\">\n",
       "  <thead>\n",
       "    <tr style=\"text-align: right;\">\n",
       "      <th></th>\n",
       "      <th>budget</th>\n",
       "      <th>popularity</th>\n",
       "      <th>revenue</th>\n",
       "      <th>startYear</th>\n",
       "      <th>runtimeMinutes</th>\n",
       "      <th>averageRating</th>\n",
       "      <th>numVotes</th>\n",
       "      <th>gnr_Action</th>\n",
       "      <th>gnr_Adult</th>\n",
       "      <th>gnr_Adventure</th>\n",
       "      <th>gnr_Animation</th>\n",
       "      <th>gnr_Biography</th>\n",
       "      <th>gnr_Comedy</th>\n",
       "      <th>gnr_Crime</th>\n",
       "      <th>gnr_Documentary</th>\n",
       "      <th>gnr_Drama</th>\n",
       "      <th>gnr_Family</th>\n",
       "      <th>gnr_Fantasy</th>\n",
       "      <th>gnr_Film-Noir</th>\n",
       "      <th>gnr_History</th>\n",
       "      <th>gnr_Horror</th>\n",
       "      <th>gnr_Music</th>\n",
       "      <th>gnr_Mystery</th>\n",
       "      <th>gnr_Romance</th>\n",
       "      <th>gnr_Sci-Fi</th>\n",
       "      <th>gnr_Sport</th>\n",
       "      <th>gnr_Thriller</th>\n",
       "      <th>gnr_War</th>\n",
       "      <th>gnr_Western</th>\n",
       "      <th>original_language_en</th>\n",
       "      <th>original_language_hi</th>\n",
       "      <th>original_language_it</th>\n",
       "      <th>original_language_ja</th>\n",
       "      <th>original_language_sv</th>\n",
       "      <th>movieId</th>\n",
       "    </tr>\n",
       "  </thead>\n",
       "  <tbody>\n",
       "    <tr>\n",
       "      <th>35286</th>\n",
       "      <td>22000000</td>\n",
       "      <td>6.652</td>\n",
       "      <td>91258000</td>\n",
       "      <td>2018</td>\n",
       "      <td>73.0</td>\n",
       "      <td>4.70</td>\n",
       "      <td>229</td>\n",
       "      <td>0</td>\n",
       "      <td>0</td>\n",
       "      <td>0</td>\n",
       "      <td>0</td>\n",
       "      <td>0</td>\n",
       "      <td>0</td>\n",
       "      <td>0</td>\n",
       "      <td>1</td>\n",
       "      <td>0</td>\n",
       "      <td>0</td>\n",
       "      <td>0</td>\n",
       "      <td>0</td>\n",
       "      <td>0</td>\n",
       "      <td>0</td>\n",
       "      <td>0</td>\n",
       "      <td>0</td>\n",
       "      <td>0</td>\n",
       "      <td>0</td>\n",
       "      <td>0</td>\n",
       "      <td>0</td>\n",
       "      <td>0</td>\n",
       "      <td>0</td>\n",
       "      <td>1</td>\n",
       "      <td>0</td>\n",
       "      <td>0</td>\n",
       "      <td>0</td>\n",
       "      <td>0</td>\n",
       "      <td>200016</td>\n",
       "    </tr>\n",
       "    <tr>\n",
       "      <th>290</th>\n",
       "      <td>25000000</td>\n",
       "      <td>51.265</td>\n",
       "      <td>28341469</td>\n",
       "      <td>1994</td>\n",
       "      <td>142.0</td>\n",
       "      <td>4.65</td>\n",
       "      <td>2376952</td>\n",
       "      <td>0</td>\n",
       "      <td>0</td>\n",
       "      <td>0</td>\n",
       "      <td>0</td>\n",
       "      <td>0</td>\n",
       "      <td>0</td>\n",
       "      <td>0</td>\n",
       "      <td>0</td>\n",
       "      <td>1</td>\n",
       "      <td>0</td>\n",
       "      <td>0</td>\n",
       "      <td>0</td>\n",
       "      <td>0</td>\n",
       "      <td>0</td>\n",
       "      <td>0</td>\n",
       "      <td>0</td>\n",
       "      <td>0</td>\n",
       "      <td>0</td>\n",
       "      <td>0</td>\n",
       "      <td>0</td>\n",
       "      <td>0</td>\n",
       "      <td>0</td>\n",
       "      <td>1</td>\n",
       "      <td>0</td>\n",
       "      <td>0</td>\n",
       "      <td>0</td>\n",
       "      <td>0</td>\n",
       "      <td>318</td>\n",
       "    </tr>\n",
       "    <tr>\n",
       "      <th>751</th>\n",
       "      <td>6000000</td>\n",
       "      <td>41.776</td>\n",
       "      <td>245066411</td>\n",
       "      <td>1972</td>\n",
       "      <td>175.0</td>\n",
       "      <td>4.60</td>\n",
       "      <td>1646397</td>\n",
       "      <td>0</td>\n",
       "      <td>0</td>\n",
       "      <td>0</td>\n",
       "      <td>0</td>\n",
       "      <td>0</td>\n",
       "      <td>0</td>\n",
       "      <td>1</td>\n",
       "      <td>0</td>\n",
       "      <td>1</td>\n",
       "      <td>0</td>\n",
       "      <td>0</td>\n",
       "      <td>0</td>\n",
       "      <td>0</td>\n",
       "      <td>0</td>\n",
       "      <td>0</td>\n",
       "      <td>0</td>\n",
       "      <td>0</td>\n",
       "      <td>0</td>\n",
       "      <td>0</td>\n",
       "      <td>0</td>\n",
       "      <td>0</td>\n",
       "      <td>0</td>\n",
       "      <td>1</td>\n",
       "      <td>0</td>\n",
       "      <td>0</td>\n",
       "      <td>0</td>\n",
       "      <td>0</td>\n",
       "      <td>858</td>\n",
       "    </tr>\n",
       "    <tr>\n",
       "      <th>36274</th>\n",
       "      <td>22000000</td>\n",
       "      <td>3.548</td>\n",
       "      <td>91258000</td>\n",
       "      <td>2017</td>\n",
       "      <td>48.0</td>\n",
       "      <td>4.60</td>\n",
       "      <td>459</td>\n",
       "      <td>0</td>\n",
       "      <td>0</td>\n",
       "      <td>0</td>\n",
       "      <td>0</td>\n",
       "      <td>0</td>\n",
       "      <td>0</td>\n",
       "      <td>0</td>\n",
       "      <td>1</td>\n",
       "      <td>0</td>\n",
       "      <td>0</td>\n",
       "      <td>0</td>\n",
       "      <td>0</td>\n",
       "      <td>0</td>\n",
       "      <td>1</td>\n",
       "      <td>0</td>\n",
       "      <td>0</td>\n",
       "      <td>0</td>\n",
       "      <td>0</td>\n",
       "      <td>0</td>\n",
       "      <td>0</td>\n",
       "      <td>0</td>\n",
       "      <td>0</td>\n",
       "      <td>1</td>\n",
       "      <td>0</td>\n",
       "      <td>0</td>\n",
       "      <td>0</td>\n",
       "      <td>0</td>\n",
       "      <td>204768</td>\n",
       "    </tr>\n",
       "    <tr>\n",
       "      <th>35647</th>\n",
       "      <td>87500</td>\n",
       "      <td>5.492</td>\n",
       "      <td>91258000</td>\n",
       "      <td>2018</td>\n",
       "      <td>120.0</td>\n",
       "      <td>4.55</td>\n",
       "      <td>2701</td>\n",
       "      <td>0</td>\n",
       "      <td>0</td>\n",
       "      <td>0</td>\n",
       "      <td>0</td>\n",
       "      <td>0</td>\n",
       "      <td>0</td>\n",
       "      <td>0</td>\n",
       "      <td>1</td>\n",
       "      <td>0</td>\n",
       "      <td>0</td>\n",
       "      <td>0</td>\n",
       "      <td>0</td>\n",
       "      <td>0</td>\n",
       "      <td>0</td>\n",
       "      <td>0</td>\n",
       "      <td>0</td>\n",
       "      <td>0</td>\n",
       "      <td>0</td>\n",
       "      <td>0</td>\n",
       "      <td>0</td>\n",
       "      <td>0</td>\n",
       "      <td>0</td>\n",
       "      <td>1</td>\n",
       "      <td>0</td>\n",
       "      <td>0</td>\n",
       "      <td>0</td>\n",
       "      <td>0</td>\n",
       "      <td>201731</td>\n",
       "    </tr>\n",
       "    <tr>\n",
       "      <th>...</th>\n",
       "      <td>...</td>\n",
       "      <td>...</td>\n",
       "      <td>...</td>\n",
       "      <td>...</td>\n",
       "      <td>...</td>\n",
       "      <td>...</td>\n",
       "      <td>...</td>\n",
       "      <td>...</td>\n",
       "      <td>...</td>\n",
       "      <td>...</td>\n",
       "      <td>...</td>\n",
       "      <td>...</td>\n",
       "      <td>...</td>\n",
       "      <td>...</td>\n",
       "      <td>...</td>\n",
       "      <td>...</td>\n",
       "      <td>...</td>\n",
       "      <td>...</td>\n",
       "      <td>...</td>\n",
       "      <td>...</td>\n",
       "      <td>...</td>\n",
       "      <td>...</td>\n",
       "      <td>...</td>\n",
       "      <td>...</td>\n",
       "      <td>...</td>\n",
       "      <td>...</td>\n",
       "      <td>...</td>\n",
       "      <td>...</td>\n",
       "      <td>...</td>\n",
       "      <td>...</td>\n",
       "      <td>...</td>\n",
       "      <td>...</td>\n",
       "      <td>...</td>\n",
       "      <td>...</td>\n",
       "      <td>...</td>\n",
       "    </tr>\n",
       "    <tr>\n",
       "      <th>29373</th>\n",
       "      <td>7000</td>\n",
       "      <td>6.614</td>\n",
       "      <td>91258000</td>\n",
       "      <td>2005</td>\n",
       "      <td>66.0</td>\n",
       "      <td>0.75</td>\n",
       "      <td>270</td>\n",
       "      <td>0</td>\n",
       "      <td>0</td>\n",
       "      <td>0</td>\n",
       "      <td>0</td>\n",
       "      <td>0</td>\n",
       "      <td>0</td>\n",
       "      <td>0</td>\n",
       "      <td>0</td>\n",
       "      <td>0</td>\n",
       "      <td>0</td>\n",
       "      <td>0</td>\n",
       "      <td>0</td>\n",
       "      <td>0</td>\n",
       "      <td>0</td>\n",
       "      <td>0</td>\n",
       "      <td>0</td>\n",
       "      <td>1</td>\n",
       "      <td>0</td>\n",
       "      <td>0</td>\n",
       "      <td>1</td>\n",
       "      <td>0</td>\n",
       "      <td>0</td>\n",
       "      <td>1</td>\n",
       "      <td>0</td>\n",
       "      <td>0</td>\n",
       "      <td>0</td>\n",
       "      <td>0</td>\n",
       "      <td>170819</td>\n",
       "    </tr>\n",
       "    <tr>\n",
       "      <th>23895</th>\n",
       "      <td>500000</td>\n",
       "      <td>6.972</td>\n",
       "      <td>2800000</td>\n",
       "      <td>2014</td>\n",
       "      <td>79.0</td>\n",
       "      <td>0.70</td>\n",
       "      <td>15181</td>\n",
       "      <td>0</td>\n",
       "      <td>0</td>\n",
       "      <td>0</td>\n",
       "      <td>0</td>\n",
       "      <td>0</td>\n",
       "      <td>1</td>\n",
       "      <td>0</td>\n",
       "      <td>0</td>\n",
       "      <td>0</td>\n",
       "      <td>1</td>\n",
       "      <td>0</td>\n",
       "      <td>0</td>\n",
       "      <td>0</td>\n",
       "      <td>0</td>\n",
       "      <td>0</td>\n",
       "      <td>0</td>\n",
       "      <td>0</td>\n",
       "      <td>0</td>\n",
       "      <td>0</td>\n",
       "      <td>0</td>\n",
       "      <td>0</td>\n",
       "      <td>0</td>\n",
       "      <td>1</td>\n",
       "      <td>0</td>\n",
       "      <td>0</td>\n",
       "      <td>0</td>\n",
       "      <td>0</td>\n",
       "      <td>141994</td>\n",
       "    </tr>\n",
       "    <tr>\n",
       "      <th>25330</th>\n",
       "      <td>22000000</td>\n",
       "      <td>3.513</td>\n",
       "      <td>91258000</td>\n",
       "      <td>1972</td>\n",
       "      <td>96.0</td>\n",
       "      <td>0.70</td>\n",
       "      <td>1260</td>\n",
       "      <td>0</td>\n",
       "      <td>0</td>\n",
       "      <td>0</td>\n",
       "      <td>0</td>\n",
       "      <td>0</td>\n",
       "      <td>0</td>\n",
       "      <td>0</td>\n",
       "      <td>0</td>\n",
       "      <td>0</td>\n",
       "      <td>1</td>\n",
       "      <td>1</td>\n",
       "      <td>0</td>\n",
       "      <td>0</td>\n",
       "      <td>0</td>\n",
       "      <td>0</td>\n",
       "      <td>0</td>\n",
       "      <td>0</td>\n",
       "      <td>0</td>\n",
       "      <td>0</td>\n",
       "      <td>0</td>\n",
       "      <td>0</td>\n",
       "      <td>0</td>\n",
       "      <td>1</td>\n",
       "      <td>0</td>\n",
       "      <td>0</td>\n",
       "      <td>0</td>\n",
       "      <td>0</td>\n",
       "      <td>149402</td>\n",
       "    </tr>\n",
       "    <tr>\n",
       "      <th>15525</th>\n",
       "      <td>22000000</td>\n",
       "      <td>4.319</td>\n",
       "      <td>91258000</td>\n",
       "      <td>1992</td>\n",
       "      <td>71.0</td>\n",
       "      <td>0.65</td>\n",
       "      <td>1736</td>\n",
       "      <td>0</td>\n",
       "      <td>0</td>\n",
       "      <td>0</td>\n",
       "      <td>0</td>\n",
       "      <td>0</td>\n",
       "      <td>1</td>\n",
       "      <td>0</td>\n",
       "      <td>0</td>\n",
       "      <td>0</td>\n",
       "      <td>0</td>\n",
       "      <td>0</td>\n",
       "      <td>0</td>\n",
       "      <td>0</td>\n",
       "      <td>1</td>\n",
       "      <td>0</td>\n",
       "      <td>1</td>\n",
       "      <td>0</td>\n",
       "      <td>0</td>\n",
       "      <td>0</td>\n",
       "      <td>0</td>\n",
       "      <td>0</td>\n",
       "      <td>0</td>\n",
       "      <td>1</td>\n",
       "      <td>0</td>\n",
       "      <td>0</td>\n",
       "      <td>0</td>\n",
       "      <td>0</td>\n",
       "      <td>96030</td>\n",
       "    </tr>\n",
       "    <tr>\n",
       "      <th>25547</th>\n",
       "      <td>22000000</td>\n",
       "      <td>2.927</td>\n",
       "      <td>91258000</td>\n",
       "      <td>2015</td>\n",
       "      <td>81.0</td>\n",
       "      <td>0.65</td>\n",
       "      <td>6621</td>\n",
       "      <td>0</td>\n",
       "      <td>0</td>\n",
       "      <td>0</td>\n",
       "      <td>0</td>\n",
       "      <td>0</td>\n",
       "      <td>1</td>\n",
       "      <td>0</td>\n",
       "      <td>0</td>\n",
       "      <td>0</td>\n",
       "      <td>0</td>\n",
       "      <td>0</td>\n",
       "      <td>0</td>\n",
       "      <td>0</td>\n",
       "      <td>1</td>\n",
       "      <td>0</td>\n",
       "      <td>0</td>\n",
       "      <td>0</td>\n",
       "      <td>0</td>\n",
       "      <td>0</td>\n",
       "      <td>0</td>\n",
       "      <td>0</td>\n",
       "      <td>0</td>\n",
       "      <td>0</td>\n",
       "      <td>0</td>\n",
       "      <td>0</td>\n",
       "      <td>0</td>\n",
       "      <td>0</td>\n",
       "      <td>150700</td>\n",
       "    </tr>\n",
       "  </tbody>\n",
       "</table>\n",
       "<p>36867 rows × 35 columns</p>\n",
       "</div>"
      ],
      "text/plain": [
       "         budget  popularity    revenue  startYear  runtimeMinutes  \\\n",
       "35286  22000000       6.652   91258000       2018            73.0   \n",
       "290    25000000      51.265   28341469       1994           142.0   \n",
       "751     6000000      41.776  245066411       1972           175.0   \n",
       "36274  22000000       3.548   91258000       2017            48.0   \n",
       "35647     87500       5.492   91258000       2018           120.0   \n",
       "...         ...         ...        ...        ...             ...   \n",
       "29373      7000       6.614   91258000       2005            66.0   \n",
       "23895    500000       6.972    2800000       2014            79.0   \n",
       "25330  22000000       3.513   91258000       1972            96.0   \n",
       "15525  22000000       4.319   91258000       1992            71.0   \n",
       "25547  22000000       2.927   91258000       2015            81.0   \n",
       "\n",
       "       averageRating  numVotes  gnr_Action  gnr_Adult  gnr_Adventure  \\\n",
       "35286           4.70       229           0          0              0   \n",
       "290             4.65   2376952           0          0              0   \n",
       "751             4.60   1646397           0          0              0   \n",
       "36274           4.60       459           0          0              0   \n",
       "35647           4.55      2701           0          0              0   \n",
       "...              ...       ...         ...        ...            ...   \n",
       "29373           0.75       270           0          0              0   \n",
       "23895           0.70     15181           0          0              0   \n",
       "25330           0.70      1260           0          0              0   \n",
       "15525           0.65      1736           0          0              0   \n",
       "25547           0.65      6621           0          0              0   \n",
       "\n",
       "       gnr_Animation  gnr_Biography  gnr_Comedy  gnr_Crime  gnr_Documentary  \\\n",
       "35286              0              0           0          0                1   \n",
       "290                0              0           0          0                0   \n",
       "751                0              0           0          1                0   \n",
       "36274              0              0           0          0                1   \n",
       "35647              0              0           0          0                1   \n",
       "...              ...            ...         ...        ...              ...   \n",
       "29373              0              0           0          0                0   \n",
       "23895              0              0           1          0                0   \n",
       "25330              0              0           0          0                0   \n",
       "15525              0              0           1          0                0   \n",
       "25547              0              0           1          0                0   \n",
       "\n",
       "       gnr_Drama  gnr_Family  gnr_Fantasy  gnr_Film-Noir  gnr_History  \\\n",
       "35286          0           0            0              0            0   \n",
       "290            1           0            0              0            0   \n",
       "751            1           0            0              0            0   \n",
       "36274          0           0            0              0            0   \n",
       "35647          0           0            0              0            0   \n",
       "...          ...         ...          ...            ...          ...   \n",
       "29373          0           0            0              0            0   \n",
       "23895          0           1            0              0            0   \n",
       "25330          0           1            1              0            0   \n",
       "15525          0           0            0              0            0   \n",
       "25547          0           0            0              0            0   \n",
       "\n",
       "       gnr_Horror  gnr_Music  gnr_Mystery  gnr_Romance  gnr_Sci-Fi  gnr_Sport  \\\n",
       "35286           0          0            0            0           0          0   \n",
       "290             0          0            0            0           0          0   \n",
       "751             0          0            0            0           0          0   \n",
       "36274           1          0            0            0           0          0   \n",
       "35647           0          0            0            0           0          0   \n",
       "...           ...        ...          ...          ...         ...        ...   \n",
       "29373           0          0            0            1           0          0   \n",
       "23895           0          0            0            0           0          0   \n",
       "25330           0          0            0            0           0          0   \n",
       "15525           1          0            1            0           0          0   \n",
       "25547           1          0            0            0           0          0   \n",
       "\n",
       "       gnr_Thriller  gnr_War  gnr_Western  original_language_en  \\\n",
       "35286             0        0            0                     1   \n",
       "290               0        0            0                     1   \n",
       "751               0        0            0                     1   \n",
       "36274             0        0            0                     1   \n",
       "35647             0        0            0                     1   \n",
       "...             ...      ...          ...                   ...   \n",
       "29373             1        0            0                     1   \n",
       "23895             0        0            0                     1   \n",
       "25330             0        0            0                     1   \n",
       "15525             0        0            0                     1   \n",
       "25547             0        0            0                     0   \n",
       "\n",
       "       original_language_hi  original_language_it  original_language_ja  \\\n",
       "35286                     0                     0                     0   \n",
       "290                       0                     0                     0   \n",
       "751                       0                     0                     0   \n",
       "36274                     0                     0                     0   \n",
       "35647                     0                     0                     0   \n",
       "...                     ...                   ...                   ...   \n",
       "29373                     0                     0                     0   \n",
       "23895                     0                     0                     0   \n",
       "25330                     0                     0                     0   \n",
       "15525                     0                     0                     0   \n",
       "25547                     0                     0                     0   \n",
       "\n",
       "       original_language_sv  movieId  \n",
       "35286                     0   200016  \n",
       "290                       0      318  \n",
       "751                       0      858  \n",
       "36274                     0   204768  \n",
       "35647                     0   201731  \n",
       "...                     ...      ...  \n",
       "29373                     0   170819  \n",
       "23895                     0   141994  \n",
       "25330                     0   149402  \n",
       "15525                     0    96030  \n",
       "25547                     0   150700  \n",
       "\n",
       "[36867 rows x 35 columns]"
      ]
     },
     "execution_count": 68,
     "metadata": {},
     "output_type": "execute_result"
    }
   ],
   "source": [
    "# This works well. Sorting by these columns in this order produces high ratings with current focus and high praise\n",
    "movie_df.sort_values(['averageRating', 'popularity', 'numVotes', 'runtimeMinutes'], ascending=False)"
   ]
  },
  {
   "cell_type": "code",
   "execution_count": 69,
   "id": "64bf3b45",
   "metadata": {
    "ExecuteTime": {
     "end_time": "2021-05-06T01:25:03.191505Z",
     "start_time": "2021-05-06T01:25:03.179208Z"
    }
   },
   "outputs": [
    {
     "data": {
      "text/html": [
       "<div>\n",
       "<style scoped>\n",
       "    .dataframe tbody tr th:only-of-type {\n",
       "        vertical-align: middle;\n",
       "    }\n",
       "\n",
       "    .dataframe tbody tr th {\n",
       "        vertical-align: top;\n",
       "    }\n",
       "\n",
       "    .dataframe thead th {\n",
       "        text-align: right;\n",
       "    }\n",
       "</style>\n",
       "<table border=\"1\" class=\"dataframe\">\n",
       "  <thead>\n",
       "    <tr style=\"text-align: right;\">\n",
       "      <th></th>\n",
       "      <th>movieId</th>\n",
       "      <th>title</th>\n",
       "    </tr>\n",
       "  </thead>\n",
       "  <tbody>\n",
       "    <tr>\n",
       "      <th>13798</th>\n",
       "      <td>71444</td>\n",
       "      <td>Thirst (Pyaasa) (1957)</td>\n",
       "    </tr>\n",
       "  </tbody>\n",
       "</table>\n",
       "</div>"
      ],
      "text/plain": [
       "       movieId                   title\n",
       "13798    71444  Thirst (Pyaasa) (1957)"
      ]
     },
     "execution_count": 69,
     "metadata": {},
     "output_type": "execute_result"
    }
   ],
   "source": [
    "ml_m_df[ml_m_df['movieId']==71444]"
   ]
  },
  {
   "cell_type": "code",
   "execution_count": 70,
   "id": "02bb85c2",
   "metadata": {
    "ExecuteTime": {
     "end_time": "2021-05-06T01:25:03.232859Z",
     "start_time": "2021-05-06T01:25:03.194355Z"
    }
   },
   "outputs": [],
   "source": [
    "uvfr = list(merged_movie_r_df_sample.iloc[:,8:20].columns)"
   ]
  },
  {
   "cell_type": "markdown",
   "id": "19aa7350",
   "metadata": {},
   "source": [
    "# User weight matching and querying\n",
    "##### Goal:\n",
    "match a new user's weights with their most compatible in-model user.\n",
    "Problem:\n",
    "the numpy operation has no way to report the index of the 2nd input, the transposed established user matrix.\n",
    "Solution:\n",
    "write a function to hold this information in some form.\n",
    "Priority:\n",
    "low. For the purpose of minimum viable product, this can be skipped until later.\n",
    "See requirements contract for exactly what must be delivered first!"
   ]
  },
  {
   "cell_type": "markdown",
   "id": "194b3cb0",
   "metadata": {},
   "source": [
    "Voila breaks on the cell below. Likely because of one of the possible features within:\n",
    "The function is assigning to a variable, printing, and asking for inputs. Rather than ask for inputs I can probably make a widget that takes in parameters and influences the output of an item somewhere."
   ]
  },
  {
   "cell_type": "code",
   "execution_count": 71,
   "id": "92f083d0",
   "metadata": {
    "ExecuteTime": {
     "end_time": "2021-05-06T01:25:03.237993Z",
     "start_time": "2021-05-06T01:25:03.234776Z"
    }
   },
   "outputs": [],
   "source": [
    "# user_acc_162541 = set_user_weights(162541, uvfi=uvfr, s=100, ud=None, sdf=None, m='set')"
   ]
  },
  {
   "cell_type": "code",
   "execution_count": 174,
   "id": "970a0d95",
   "metadata": {
    "ExecuteTime": {
     "end_time": "2021-05-06T04:43:36.944621Z",
     "start_time": "2021-05-06T04:43:36.938635Z"
    }
   },
   "outputs": [],
   "source": [
    "def find_best_match(newusers, currentusers, cuei=12):\n",
    "    currentusers = currentusers.copy()\n",
    "    currentusers = currentusers.iloc[:,:cuei]\n",
    "    nu_shape = newusers.shape\n",
    "    cu_shape = currentusers.shape\n",
    "    if nu_shape[1] != cu_shape[1]:\n",
    "        return \"Column ranges of parameter dataframes are not equal!\"\n",
    "    nu_ind = list(newusers.index)\n",
    "    marr = np.dot(newusers, currentusers.iloc[:,:cuei].T)\n",
    "    ndf = pd.DataFrame(columns=['ClosestCurrentUser'])\n",
    "    \n",
    "    for newUser in range(nu_shape[0]):\n",
    "        cu_ind = list(currentusers.index)\n",
    "        ndl = list()\n",
    "        highest_value = 0\n",
    "        highest_user = None\n",
    "        for currentUser in range(cu_shape[0]):\n",
    "            current_value = marr[newUser,currentUser]\n",
    "            if current_value > highest_value:\n",
    "                highest_value = current_value\n",
    "                highest_user = cu_ind[0]\n",
    "            cu_ind.pop(0)\n",
    "        ndl.append(highest_user)\n",
    "        ndf.loc[nu_ind[0]] = ndl\n",
    "        nu_ind.pop(0)\n",
    "    return ndf"
   ]
  },
  {
   "cell_type": "code",
   "execution_count": 152,
   "id": "cb3a8ea2",
   "metadata": {
    "ExecuteTime": {
     "end_time": "2021-05-06T04:39:15.043737Z",
     "start_time": "2021-05-06T04:39:15.041293Z"
    }
   },
   "outputs": [],
   "source": [
    "# find_best_match(user_acc_162541, uwdf, cuei=12)"
   ]
  },
  {
   "cell_type": "markdown",
   "id": "18e4aaa7",
   "metadata": {},
   "source": [
    "# Dashboard Contents to Deploy\n",
    "## Top Movies with Filter\n",
    "## Genre Weight Sliders with Recommendation"
   ]
  },
  {
   "cell_type": "markdown",
   "id": "35558944",
   "metadata": {
    "tags": [
     "sidebar"
    ]
   },
   "source": [
    "Sidebar"
   ]
  },
  {
   "cell_type": "code",
   "execution_count": 188,
   "id": "2dbc570b",
   "metadata": {
    "ExecuteTime": {
     "end_time": "2021-05-06T05:17:20.301917Z",
     "start_time": "2021-05-06T05:17:20.299090Z"
    }
   },
   "outputs": [],
   "source": [
    "genre_cols = ['Any']\n",
    "genre_cols.extend(list(movie_df.columns[7:-1]))"
   ]
  },
  {
   "cell_type": "code",
   "execution_count": 189,
   "id": "d20c78c1",
   "metadata": {
    "ExecuteTime": {
     "end_time": "2021-05-06T05:17:21.942053Z",
     "start_time": "2021-05-06T05:17:21.938874Z"
    }
   },
   "outputs": [],
   "source": [
    "axis_map = {\n",
    "    \"Average Rating\": \"averageRating\",\n",
    "    \"Popularity\": \"popularity\",\n",
    "    \"Number of Reviews\": \"numVotes\",\n",
    "    \"Revenue Earned (dollars)\": \"revenue\",\n",
    "    \"Length (minutes)\": \"runtimeMinutes\",\n",
    "    \"Year\": \"startYear\",\n",
    "}"
   ]
  },
  {
   "cell_type": "code",
   "execution_count": 149,
   "id": "27cdd806",
   "metadata": {
    "ExecuteTime": {
     "end_time": "2021-05-06T04:38:46.827366Z",
     "start_time": "2021-05-06T04:38:46.824671Z"
    }
   },
   "outputs": [],
   "source": [
    "#genre_cols"
   ]
  },
  {
   "cell_type": "markdown",
   "id": "0c6d7e78",
   "metadata": {
    "tags": [
     "size=650"
    ]
   },
   "source": [
    "# Filter Parameters"
   ]
  },
  {
   "cell_type": "code",
   "execution_count": 190,
   "id": "68adb7d5",
   "metadata": {
    "ExecuteTime": {
     "end_time": "2021-05-06T05:17:25.539831Z",
     "start_time": "2021-05-06T05:17:25.453479Z"
    },
    "tags": [
     "body"
    ]
   },
   "outputs": [
    {
     "data": {
      "application/vnd.jupyter.widget-view+json": {
       "model_id": "fb6de7e8114c48cf8eedf279eaf38397",
       "version_major": 2,
       "version_minor": 0
      },
      "text/plain": [
       "VBox(children=(HTML(value='Minimum number of ratings on IMDb:'), IntSlider(value=100, max=3000000, min=100, st…"
      ]
     },
     "metadata": {},
     "output_type": "display_data"
    }
   ],
   "source": [
    "components = []\n",
    "\n",
    "ratingc_label = widgets.HTML(value=\"Minimum number of ratings on IMDb:\")\n",
    "ratingc = widgets.IntSlider(value=100, min=100, max=3000000, step=100)\n",
    "components.extend([ratingc_label, ratingc])\n",
    "\n",
    "ratingv_label = widgets.HTML(value=\"Minimum average rating on IMDb:\")\n",
    "ratingv = widgets.IntSlider(value=0, min=0, max=5, step=1)\n",
    "components.extend([ratingv_label, ratingv])\n",
    "\n",
    "released_year_label = widgets.HTML(value=\"Year released:\")\n",
    "released_year = widgets.IntRangeSlider(value=[1911, 2021], min=1911, max=2021, step=1)\n",
    "components.extend([released_year_label, released_year])\n",
    "\n",
    "revenue_label = widgets.HTML(value=\"Revenue Earned:\")\n",
    "revenue = widgets.IntSlider(value=0, min=10000, max=300000000, step=10000)\n",
    "components.extend([revenue_label, revenue])\n",
    "\n",
    "genre_label = widgets.HTML(value=\"Genre (a movie can have multiple genres):\")\n",
    "genre = widgets.Dropdown(options=genre_cols, value=\"Any\")\n",
    "components.extend([genre_label, genre])\n",
    "\n",
    "all_widgets = widgets.VBox(components)\n",
    "all_widgets"
   ]
  },
  {
   "cell_type": "markdown",
   "id": "e6897324",
   "metadata": {
    "tags": [
     "size=350"
    ]
   },
   "source": [
    "# Variables"
   ]
  },
  {
   "cell_type": "code",
   "execution_count": 191,
   "id": "72add328",
   "metadata": {
    "ExecuteTime": {
     "end_time": "2021-05-06T05:17:30.783371Z",
     "start_time": "2021-05-06T05:17:30.732396Z"
    },
    "tags": [
     "body"
    ]
   },
   "outputs": [
    {
     "data": {
      "application/vnd.jupyter.widget-view+json": {
       "model_id": "ca1b1fe9656c42f4b0afa3e24ed2f12c",
       "version_major": 2,
       "version_minor": 0
      },
      "text/plain": [
       "VBox(children=(HTML(value='X-axis variable:'), Dropdown(index=4, options=(('Average Rating', 'averageRating'),…"
      ]
     },
     "metadata": {},
     "output_type": "display_data"
    }
   ],
   "source": [
    "components = []\n",
    "\n",
    "x_axis_label = widgets.HTML(value=\"X-axis variable:\")\n",
    "x_axis = widgets.Dropdown(options=list(axis_map.items()), value=\"runtimeMinutes\")\n",
    "components.extend([x_axis_label, x_axis])\n",
    "\n",
    "y_axis_label = widgets.HTML(value=\"Y-axis variable:\")\n",
    "y_axis = widgets.Dropdown(options=list(axis_map.items()), value=\"averageRating\")\n",
    "components.extend([y_axis_label, y_axis])\n",
    "\n",
    "\n",
    "note = \"Note: The Average Rating is collected from IMDb, and is the average of 1 to 10 ratings given by users, divided by 2.\"\n",
    "note_label = widgets.HTML(value=note)\n",
    "components.append(note_label)\n",
    "\n",
    "all_widgets = widgets.VBox(components)\n",
    "all_widgets"
   ]
  },
  {
   "cell_type": "code",
   "execution_count": 192,
   "id": "e7dfbe4f",
   "metadata": {
    "ExecuteTime": {
     "end_time": "2021-05-06T05:17:54.599434Z",
     "start_time": "2021-05-06T05:17:54.591832Z"
    },
    "tags": [
     "source"
    ]
   },
   "outputs": [],
   "source": [
    "movie_dfc = movie_df.copy()"
   ]
  },
  {
   "cell_type": "code",
   "execution_count": 205,
   "id": "9fb8cc12",
   "metadata": {
    "ExecuteTime": {
     "end_time": "2021-05-06T05:24:25.926803Z",
     "start_time": "2021-05-06T05:24:25.893289Z"
    }
   },
   "outputs": [],
   "source": [
    "movie_dfc = movie_dfc.merge(ml_m_df, how='inner', on='movieId')"
   ]
  },
  {
   "cell_type": "code",
   "execution_count": 214,
   "id": "1de87c0c",
   "metadata": {
    "ExecuteTime": {
     "end_time": "2021-05-06T05:52:21.554328Z",
     "start_time": "2021-05-06T05:52:20.797737Z"
    }
   },
   "outputs": [],
   "source": [
    "#movie_dfc.to_csv('data/movie_dfce.zip')"
   ]
  },
  {
   "cell_type": "code",
   "execution_count": 193,
   "id": "3011f736",
   "metadata": {
    "ExecuteTime": {
     "end_time": "2021-05-06T05:17:57.017278Z",
     "start_time": "2021-05-06T05:17:57.001917Z"
    },
    "tags": [
     "source"
    ]
   },
   "outputs": [],
   "source": [
    "movie_dfc[\"color\"] = np.where(movie_dfc[\"averageRating\"] > 3, \"orange\", \"grey\")\n",
    "movie_dfc[\"alpha\"] = np.where(movie_dfc[\"averageRating\"] > 3, 0.9, 0.25)\n",
    "movie_dfc.fillna(0, inplace=True)  # just replace missing values with zero\n",
    "#movie_dfc[\"revenue\"] = movie_dfc.revenue.apply(lambda x: '{:,d}'.format(int(x)))"
   ]
  },
  {
   "cell_type": "code",
   "execution_count": 124,
   "id": "8bc9f50a",
   "metadata": {
    "ExecuteTime": {
     "end_time": "2021-05-06T03:53:53.717573Z",
     "start_time": "2021-05-06T03:53:53.715279Z"
    }
   },
   "outputs": [],
   "source": [
    "#type(movie_dfc['revenue'][0])"
   ]
  },
  {
   "cell_type": "code",
   "execution_count": 108,
   "id": "58d976fc",
   "metadata": {
    "ExecuteTime": {
     "end_time": "2021-05-06T03:52:00.946410Z",
     "start_time": "2021-05-06T03:52:00.943704Z"
    }
   },
   "outputs": [],
   "source": [
    "#'{:,d}'.format(int(30))"
   ]
  },
  {
   "cell_type": "code",
   "execution_count": 194,
   "id": "9705b027",
   "metadata": {
    "ExecuteTime": {
     "end_time": "2021-05-06T05:17:58.804054Z",
     "start_time": "2021-05-06T05:17:58.766957Z"
    },
    "tags": [
     "source"
    ]
   },
   "outputs": [],
   "source": [
    "fig = go.FigureWidget()\n",
    "plot = go.Scatter(x=[], y=[], mode=\"markers\", text=[], hoverinfo=\"text\", marker=dict(color=[], opacity=[], size=7))\n",
    "fig.add_trace(plot)\n",
    "\n",
    "margin = go.layout.Margin(l=20, r=20, b=20, t=30)\n",
    "fig = fig.update_layout(margin=margin)"
   ]
  },
  {
   "cell_type": "code",
   "execution_count": 213,
   "id": "58d2953f",
   "metadata": {
    "ExecuteTime": {
     "end_time": "2021-05-06T05:28:05.998844Z",
     "start_time": "2021-05-06T05:28:05.991005Z"
    },
    "tags": [
     "source"
    ]
   },
   "outputs": [],
   "source": [
    "def select_movies():\n",
    "    selected = movie_dfc[\n",
    "        (movie_dfc.numVotes >= ratingc.value) &\n",
    "        (movie_dfc.averageRating >= ratingv.value) &\n",
    "        (movie_dfc.revenue >= (revenue.value)) &\n",
    "        (movie_dfc.startYear >= released_year.value[0]) &\n",
    "        (movie_dfc.startYear <= released_year.value[1])\n",
    "    ]\n",
    "    if (genre.value == \"Any\"):\n",
    "        return selected\n",
    "    else:\n",
    "        curgen = genre.value\n",
    "        selected = selected[selected[curgen]>0]\n",
    "        return selected\n",
    "\n",
    "\n",
    "def on_value_change(change):\n",
    "    movie_dfc = select_movies()\n",
    "    x_name = x_axis.value\n",
    "    y_name = y_axis.value\n",
    "\n",
    "    fig.data[0]['x'] = movie_dfc[x_name]\n",
    "    fig.data[0]['y'] = movie_dfc[y_name]\n",
    "    fig.data[0]['marker']['color'] = movie_dfc[\"color\"]\n",
    "    fig.data[0]['marker']['opacity'] = movie_dfc[\"alpha\"]\n",
    "    fig.data[0]['text'] = movie_dfc[\"title\"].astype(str) + \"<br>\" + movie_dfc[\"averageRating\"].astype(str) + \"<br>\" + movie_dfc[\"numVotes\"].astype(str) + \"<br>\"+ movie_dfc[\"revenue\"].astype(str)\n",
    "    \n",
    "    fig.update_xaxes(title_text=x_axis.label)\n",
    "    fig.update_yaxes(title_text=y_axis.label)\n",
    "    fig.update_layout(title=\"%d movies selected\" % len(movie_dfc))"
   ]
  },
  {
   "cell_type": "code",
   "execution_count": 196,
   "id": "151b2e77",
   "metadata": {
    "ExecuteTime": {
     "end_time": "2021-05-06T05:18:02.244221Z",
     "start_time": "2021-05-06T05:18:02.236881Z"
    },
    "tags": [
     "source"
    ]
   },
   "outputs": [],
   "source": [
    "controls = [ratingc, ratingv, released_year, revenue, genre]\n",
    "for control in controls:\n",
    "    control.observe(on_value_change, names=\"value\")"
   ]
  },
  {
   "cell_type": "code",
   "execution_count": 212,
   "id": "5ce453ce",
   "metadata": {
    "ExecuteTime": {
     "end_time": "2021-05-06T05:27:11.459764Z",
     "start_time": "2021-05-06T05:27:10.374106Z"
    },
    "tags": [
     "body"
    ]
   },
   "outputs": [
    {
     "data": {
      "application/vnd.jupyter.widget-view+json": {
       "model_id": "225de81dd5cb473f9f092e07f6224c58",
       "version_major": 2,
       "version_minor": 0
      },
      "text/plain": [
       "FigureWidget({\n",
       "    'data': [{'hoverinfo': 'text',\n",
       "              'marker': {'color': array(['orange', 'orange',…"
      ]
     },
     "metadata": {},
     "output_type": "display_data"
    }
   ],
   "source": [
    "on_value_change(None)\n",
    "fig"
   ]
  }
 ],
 "metadata": {
  "celltoolbar": "Tags",
  "kernelspec": {
   "display_name": "Python 3",
   "language": "python",
   "name": "python3"
  },
  "language_info": {
   "codemirror_mode": {
    "name": "ipython",
    "version": 3
   },
   "file_extension": ".py",
   "mimetype": "text/x-python",
   "name": "python",
   "nbconvert_exporter": "python",
   "pygments_lexer": "ipython3",
   "version": "3.9.4"
  },
  "toc": {
   "base_numbering": 1,
   "nav_menu": {},
   "number_sections": true,
   "sideBar": true,
   "skip_h1_title": false,
   "title_cell": "Table of Contents",
   "title_sidebar": "Contents",
   "toc_cell": false,
   "toc_position": {},
   "toc_section_display": true,
   "toc_window_display": false
  },
  "varInspector": {
   "cols": {
    "lenName": 16,
    "lenType": 16,
    "lenVar": 40
   },
   "kernels_config": {
    "python": {
     "delete_cmd_postfix": "",
     "delete_cmd_prefix": "del ",
     "library": "var_list.py",
     "varRefreshCmd": "print(var_dic_list())"
    },
    "r": {
     "delete_cmd_postfix": ") ",
     "delete_cmd_prefix": "rm(",
     "library": "var_list.r",
     "varRefreshCmd": "cat(var_dic_list()) "
    }
   },
   "types_to_exclude": [
    "module",
    "function",
    "builtin_function_or_method",
    "instance",
    "_Feature"
   ],
   "window_display": false
  }
 },
 "nbformat": 4,
 "nbformat_minor": 5
}
